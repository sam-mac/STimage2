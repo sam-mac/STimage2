{
 "cells": [
  {
   "cell_type": "code",
   "execution_count": null,
   "id": "2e64a2b9",
   "metadata": {},
   "outputs": [],
   "source": [
    "import os\n",
    "from anndata import read_h5ad\n",
    "import numpy as np\n",
    "import pandas as pd\n",
    "import os\n",
    "import time\n",
    "\n",
    "import sys\n",
    "# Add the src/ directory as one where we can import modules\n",
    "src_dir = \"../src\"\n",
    "sys.path.append(src_dir)\n",
    "from utils import VisiumClassificationDataset\n",
    "from dkl import initial_values, GP, DKL\n",
    "\n",
    "import torch\n",
    "from torch.utils.data import Dataset, DataLoader, random_split\n",
    "from torch.nn import functional as F\n",
    "from torch import optim, nn, utils, Tensor\n",
    "from torchvision.datasets import MNIST\n",
    "from torchvision import datasets, transforms\n",
    "# from torchvision.io import read_image\n",
    "# from torchvision.transforms import ToTensor\n",
    "from torchvision.models import resnet34, ResNet34_Weights\n",
    "\n",
    "from gpytorch.mlls import VariationalELBO\n",
    "from gpytorch.likelihoods import SoftmaxLikelihood\n",
    "\n",
    "import pytorch_lightning as pl\n",
    "from pytorch_lightning.loggers import WandbLogger\n",
    "from pytorch_lightning.callbacks.early_stopping import EarlyStopping\n",
    "\n",
    "import matplotlib.pyplot as plt"
   ]
  },
  {
   "cell_type": "code",
   "execution_count": null,
   "id": "5efee48d",
   "metadata": {},
   "outputs": [],
   "source": [
    "# update the location where models will be saved to\n",
    "if torch.hub.get_dir() == '/clusterdata/uqsmac12/.cache/torch/hub':\n",
    "    torch.hub.set_dir('/scratch/smp/uqsmac12/.cache/torch/hub')"
   ]
  },
  {
   "cell_type": "code",
   "execution_count": null,
   "id": "fefa9d88",
   "metadata": {},
   "outputs": [],
   "source": [
    "DIR_DATA = '/scratch/smp/uqsmac12/stimage2_data'\n",
    "\n",
    "# DIR_WANDB = DIR_DATA\n",
    "DIR_TILES = '/scratch/smp/uqsmac12/dataset_breast_cancer_9visium'\n",
    "DIR_ANNDATA_PROCESSED = '/scratch/smp/uqsmac12/dataset_breast_cancer_9visium'\n",
    "file_processed_alex_data = 'all_adata.h5ad'\n",
    "# DIR_PROCESSED_DATA = '/afm03/Q2/Q2051/STimage_project/STimage_dataset/PROCESSED/dataset_breast_cancer_9visium'\n",
    "DIR_RAW_DATA = '/afm03/Q2/Q2051/STimage_project/STimage_dataset/RAW/Alex_NatGen_6BreastCancer'\n",
    "DIR_RAW_METADATA = os.path.join(DIR_RAW_DATA, 'metadata')\n",
    "\n",
    "DIR_CHECKPOINTS = os.path.join(DIR_DATA, 'checkpoints')\n",
    "# location to save data\n",
    "DIR_PROCESSED_DATASET = os.path.join(DIR_DATA, 'data_processed')\n",
    "FILE_PROCESSED_VISIUM9 = os.path.join(DIR_PROCESSED_DATASET, 'df_adata_rna_logcpt_images_labels_visium9.csv')"
   ]
  },
  {
   "cell_type": "code",
   "execution_count": null,
   "id": "66574ae4",
   "metadata": {
    "scrolled": true
   },
   "outputs": [],
   "source": [
    "# load csv\n",
    "df_data = pd.read_csv(FILE_PROCESSED_VISIUM9, index_col='Unnamed: 0.1')"
   ]
  },
  {
   "cell_type": "code",
   "execution_count": null,
   "id": "2704ab68",
   "metadata": {
    "scrolled": false
   },
   "outputs": [],
   "source": [
    "# drop instances without cancer labels\n",
    "df_data = df_data[df_data['cancer_class'].notna()]"
   ]
  },
  {
   "cell_type": "code",
   "execution_count": null,
   "id": "1aef8565",
   "metadata": {},
   "outputs": [],
   "source": [
    "# split into train val and test datasets\n",
    "df_test = df_data[df_data['library'] == 'CID4465']\n",
    "df_train = df_data[df_data['library'] != 'CID4465']"
   ]
  },
  {
   "cell_type": "code",
   "execution_count": null,
   "id": "51bec08b",
   "metadata": {},
   "outputs": [],
   "source": [
    "# shuffle the rows preserving unique set of instances \n",
    "df_train = df_train.sample(frac=1, replace=False, random_state=42)"
   ]
  },
  {
   "cell_type": "code",
   "execution_count": null,
   "id": "8a636a72",
   "metadata": {},
   "outputs": [],
   "source": [
    "df_val = df_train.iloc[:1000, :].copy()\n",
    "df_train = df_train.iloc[1000:, :]"
   ]
  },
  {
   "cell_type": "code",
   "execution_count": null,
   "id": "1d9833d6",
   "metadata": {},
   "outputs": [],
   "source": [
    "# get transformations\n",
    "transform_scale = transforms.Lambda(lambda x: x / 255.)\n",
    "transform_normalise = ResNet34_Weights.DEFAULT.transforms()\n",
    "composed_transforms = transforms.Compose([transform_scale, transform_normalise])\n",
    "# preprocess = weights.transforms()"
   ]
  },
  {
   "cell_type": "code",
   "execution_count": null,
   "id": "5ae636e0",
   "metadata": {},
   "outputs": [],
   "source": [
    "# dataset objects\n",
    "dataset_train = VisiumClassificationDataset(df_train, transform=composed_transforms)\n",
    "dataset_val = VisiumClassificationDataset(df_val, transform=composed_transforms)\n",
    "dataset_test = VisiumClassificationDataset(df_test, transform=composed_transforms)"
   ]
  },
  {
   "cell_type": "code",
   "execution_count": null,
   "id": "bf1309ad",
   "metadata": {},
   "outputs": [],
   "source": [
    "# dataloaders\n",
    "dataloader_train = DataLoader(dataset_train, batch_size=128, shuffle=False)\n",
    "dataloader_val = DataLoader(dataset_val)\n",
    "dataloader_test = DataLoader(dataset_test)"
   ]
  },
  {
   "cell_type": "code",
   "execution_count": null,
   "id": "6099972b",
   "metadata": {},
   "outputs": [],
   "source": [
    "## load pretrained model and reset final fully connected layer\n",
    "feature_extractor = resnet34(weights=ResNet34_Weights.DEFAULT)\n",
    "num_final_fc_in = feature_extractor.fc.in_features # get number of features\n",
    "# replace final layer\n",
    "num_features_out = 128\n",
    "feature_extractor.fc = nn.Linear(num_final_fc_in, num_features_out)"
   ]
  },
  {
   "cell_type": "code",
   "execution_count": null,
   "id": "7302291d",
   "metadata": {},
   "outputs": [],
   "source": [
    "num_inducing_points = 50\n",
    "initial_inducing_points, initial_lengthscale = initial_values(\n",
    "    dataset_train, feature_extractor, num_inducing_points\n",
    ")"
   ]
  },
  {
   "cell_type": "code",
   "execution_count": null,
   "id": "e696f452",
   "metadata": {},
   "outputs": [],
   "source": [
    "kernel = 'Matern52' # RBF # Matern32\n",
    "num_classes = 2\n",
    "gp = GP(\n",
    "    num_outputs=num_classes,\n",
    "    initial_lengthscale=initial_lengthscale,\n",
    "    initial_inducing_points=initial_inducing_points,\n",
    "    kernel=kernel,\n",
    ")"
   ]
  },
  {
   "cell_type": "code",
   "execution_count": null,
   "id": "5854f098",
   "metadata": {},
   "outputs": [],
   "source": [
    "model = DKL(feature_extractor, gp)"
   ]
  },
  {
   "cell_type": "code",
   "execution_count": null,
   "id": "9d025d69",
   "metadata": {},
   "outputs": [],
   "source": [
    "likelihood = SoftmaxLikelihood(num_classes=num_classes, mixing_weights=False)\n",
    "likelihood = likelihood.cuda()"
   ]
  },
  {
   "cell_type": "code",
   "execution_count": null,
   "id": "4d9fd6f1",
   "metadata": {},
   "outputs": [],
   "source": [
    "elbo_fn = VariationalELBO(likelihood, gp, num_data=len(dataset_train))\n",
    "loss_fn = lambda x, y: -elbo_fn(x, y)"
   ]
  },
  {
   "cell_type": "code",
   "execution_count": null,
   "id": "2353c9f9",
   "metadata": {
    "scrolled": false
   },
   "outputs": [],
   "source": [
    "optimizer = torch.optim.SGD(\n",
    "    model.parameters(),\n",
    "    lr=1e-4,\n",
    "    momentum=0.9,\n",
    "    weight_decay=1e-2,\n",
    ")"
   ]
  },
  {
   "cell_type": "code",
   "execution_count": null,
   "id": "7ed7a8c4",
   "metadata": {},
   "outputs": [],
   "source": [
    "# criterion = nn.CrossEntropyLoss()"
   ]
  },
  {
   "cell_type": "code",
   "execution_count": null,
   "id": "623a28a0",
   "metadata": {},
   "outputs": [],
   "source": [
    "# # Observe that all parameters are being optimized\n",
    "# optimizer_ft = optim.SGD(feature_extractor.parameters(), lr=1e-4, momentum=0.9)"
   ]
  },
  {
   "cell_type": "code",
   "execution_count": null,
   "id": "73a0fdda",
   "metadata": {},
   "outputs": [],
   "source": [
    "exp_lr_scheduler = optim.lr_scheduler.StepLR(optimizer, step_size=30, gamma=0.2)"
   ]
  },
  {
   "cell_type": "code",
   "execution_count": null,
   "id": "0b5e9217",
   "metadata": {},
   "outputs": [],
   "source": [
    "dataloaders = {'train': dataloader_train, 'val': dataloader_val}"
   ]
  },
  {
   "cell_type": "code",
   "execution_count": null,
   "id": "b16c7730",
   "metadata": {},
   "outputs": [],
   "source": [
    "def train_model(model, criterion, optimizer, scheduler, best_model_params_path=DIR_CHECKPOINTS, num_epochs=100):\n",
    "    since = time.time()\n",
    "\n",
    "    # Create a temporary directory to save training checkpoints\n",
    "    \n",
    "    torch.save(model.state_dict(), best_model_params_path)\n",
    "    best_acc = 0.0\n",
    "    model = model.cuda()\n",
    "    for epoch in range(num_epochs):\n",
    "        print(f'Epoch {epoch}/{num_epochs - 1}')\n",
    "        print('-' * 10)\n",
    "\n",
    "        # Each epoch has a training and validation phase\n",
    "        for phase in ['train', 'val']:\n",
    "            if phase == 'train':\n",
    "                model.train()  # Set model to training mode\n",
    "            else:\n",
    "                model.eval()   # Set model to evaluate mode\n",
    "\n",
    "            running_loss = 0.0\n",
    "            running_corrects = 0\n",
    "\n",
    "            # Iterate over data.\n",
    "            for inputs, labels in dataloaders[phase]:\n",
    "                inputs = inputs.cuda()\n",
    "                labels = labels.cuda()\n",
    "\n",
    "                # zero the parameter gradients\n",
    "                optimizer.zero_grad()\n",
    "\n",
    "                # forward\n",
    "                # track history if only in train\n",
    "                with torch.set_grad_enabled(phase == 'train'):\n",
    "                    outputs = model(inputs)\n",
    "#                     _, preds = torch.max(outputs, 1)\n",
    "                    # \n",
    "                    loss = criterion(outputs, labels)\n",
    "\n",
    "                    # backward + optimize only if in training phase\n",
    "                    if phase == 'train':\n",
    "                        loss.backward()\n",
    "                        optimizer.step()\n",
    "\n",
    "                # statistics\n",
    "                running_loss += loss.item() * inputs.size(0)\n",
    "                running_corrects += torch.sum(preds == labels.data)\n",
    "            if phase == 'train':\n",
    "                scheduler.step()\n",
    "\n",
    "            epoch_loss = running_loss / dataset_sizes[phase]\n",
    "            epoch_acc = running_corrects.double() / dataset_sizes[phase]\n",
    "\n",
    "            print(f'{phase} Loss: {epoch_loss:.4f} Acc: {epoch_acc:.4f}')\n",
    "\n",
    "            # deep copy the model\n",
    "            if phase == 'val' and epoch_acc > best_acc:\n",
    "                best_acc = epoch_acc\n",
    "                torch.save(model.state_dict(), best_model_params_path)\n",
    "\n",
    "        print()\n",
    "\n",
    "    time_elapsed = time.time() - since\n",
    "    print(f'Training complete in {time_elapsed // 60:.0f}m {time_elapsed % 60:.0f}s')\n",
    "    print(f'Best val Acc: {best_acc:4f}')\n",
    "\n",
    "    # load best model weights\n",
    "    model.load_state_dict(torch.load(best_model_params_path))\n",
    "    \n",
    "    return model"
   ]
  },
  {
   "cell_type": "code",
   "execution_count": null,
   "id": "7b8c882b",
   "metadata": {},
   "outputs": [],
   "source": [
    "train_model(model, loss_fn, optimizer, exp_lr_scheduler)"
   ]
  },
  {
   "cell_type": "code",
   "execution_count": null,
   "id": "7583d274",
   "metadata": {},
   "outputs": [],
   "source": []
  },
  {
   "cell_type": "code",
   "execution_count": null,
   "id": "f698fb67",
   "metadata": {},
   "outputs": [],
   "source": []
  },
  {
   "cell_type": "code",
   "execution_count": null,
   "id": "6ed8cfe5",
   "metadata": {},
   "outputs": [],
   "source": [
    "x, y = next(iter(dataloader_train))"
   ]
  },
  {
   "cell_type": "code",
   "execution_count": null,
   "id": "cc43ac17",
   "metadata": {},
   "outputs": [],
   "source": [
    "y_pred = feature_extractor(x)"
   ]
  },
  {
   "cell_type": "code",
   "execution_count": null,
   "id": "f0d70bf5",
   "metadata": {},
   "outputs": [],
   "source": [
    "y_pred = y_pred.detach().numpy()"
   ]
  },
  {
   "cell_type": "code",
   "execution_count": null,
   "id": "2bb9a607",
   "metadata": {},
   "outputs": [],
   "source": []
  },
  {
   "cell_type": "code",
   "execution_count": null,
   "id": "adf1c226",
   "metadata": {},
   "outputs": [],
   "source": [
    "plt.hist(y_pred.reshape(-1,1), bins=30)\n",
    "plt.show()"
   ]
  },
  {
   "cell_type": "code",
   "execution_count": null,
   "id": "1817236b",
   "metadata": {},
   "outputs": [],
   "source": [
    "VisiumClassificationDataset??"
   ]
  },
  {
   "cell_type": "code",
   "execution_count": null,
   "id": "786e40bd",
   "metadata": {},
   "outputs": [],
   "source": [
    "weights.transforms??"
   ]
  },
  {
   "cell_type": "code",
   "execution_count": null,
   "id": "3fcc9c30",
   "metadata": {},
   "outputs": [],
   "source": [
    "x,y = next(iter(dataset_train))"
   ]
  },
  {
   "cell_type": "code",
   "execution_count": null,
   "id": "c699d9bc",
   "metadata": {},
   "outputs": [],
   "source": [
    "x = x.numpy().transpose(1,2,0)"
   ]
  },
  {
   "cell_type": "code",
   "execution_count": null,
   "id": "bdf169f0",
   "metadata": {},
   "outputs": [],
   "source": [
    "plt.imshow(x)\n",
    "plt.show()"
   ]
  },
  {
   "cell_type": "code",
   "execution_count": null,
   "id": "2bf7fca8",
   "metadata": {},
   "outputs": [],
   "source": [
    "plt.hist(x[2,:,:].numpy().reshape(-1,1), bins=30)\n",
    "plt.show()"
   ]
  },
  {
   "cell_type": "code",
   "execution_count": null,
   "id": "5419eaa0",
   "metadata": {},
   "outputs": [],
   "source": [
    "plt.hist(x.numpy().reshape(-1,1), bins=30)\n",
    "plt.show()"
   ]
  },
  {
   "cell_type": "code",
   "execution_count": null,
   "id": "08a1c730",
   "metadata": {},
   "outputs": [],
   "source": [
    "img_array = x.numpy().transpose(1,2,0)"
   ]
  },
  {
   "cell_type": "code",
   "execution_count": null,
   "id": "491ed7d5",
   "metadata": {},
   "outputs": [],
   "source": [
    "img_array[:,:,0]"
   ]
  },
  {
   "cell_type": "code",
   "execution_count": null,
   "id": "a4cb411c",
   "metadata": {},
   "outputs": [],
   "source": [
    "plt.imshow(img_array)\n",
    "plt.show()"
   ]
  },
  {
   "cell_type": "code",
   "execution_count": null,
   "id": "1edd2417",
   "metadata": {},
   "outputs": [],
   "source": []
  }
 ],
 "metadata": {
  "kernelspec": {
   "display_name": "lit_torch_gp",
   "language": "python",
   "name": "lit_torch_gp"
  },
  "language_info": {
   "codemirror_mode": {
    "name": "ipython",
    "version": 3
   },
   "file_extension": ".py",
   "mimetype": "text/x-python",
   "name": "python",
   "nbconvert_exporter": "python",
   "pygments_lexer": "ipython3",
   "version": "3.8.6"
  }
 },
 "nbformat": 4,
 "nbformat_minor": 5
}
