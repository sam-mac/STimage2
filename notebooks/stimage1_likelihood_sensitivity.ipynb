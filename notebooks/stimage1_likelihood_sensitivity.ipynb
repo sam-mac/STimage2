{
 "cells": [
  {
   "cell_type": "raw",
   "id": "90a29583",
   "metadata": {},
   "source": [
    "import os\n",
    "os.environ['PATH'] = '/scratch/smp/uqsmac12/.conda/env/lit_torch_gp/bin:' + os.environ['PATH']"
   ]
  },
  {
   "cell_type": "code",
   "execution_count": 1,
   "id": "5f2e5d54",
   "metadata": {
    "scrolled": false
   },
   "outputs": [
    {
     "name": "stdout",
     "output_type": "stream",
     "text": [
      "/scratch/smp/uqsmac12/.conda/env/lit_torch_gp/bin/python\r\n"
     ]
    }
   ],
   "source": [
    "!which python"
   ]
  },
  {
   "cell_type": "markdown",
   "id": "6b9214da",
   "metadata": {},
   "source": [
    "WHERE IS THE DATA: 'Q2051'"
   ]
  },
  {
   "cell_type": "code",
   "execution_count": 63,
   "id": "ee8f6aa8",
   "metadata": {
    "scrolled": true
   },
   "outputs": [],
   "source": [
    "import os\n",
    "import numpy as np\n",
    "import pandas as pd\n",
    "\n",
    "from anndata import read_h5ad\n",
    "\n",
    "import matplotlib.pyplot as plt\n",
    "\n",
    "import torch\n",
    "from torch.utils.data import DataLoader, random_split\n",
    "from torch.nn import functional as F\n",
    "from torch import optim, nn, utils, Tensor\n",
    "from torch.utils.data.sampler import SubsetRandomSampler\n",
    "from torch.utils.data import Dataset, DataLoader, random_split\n",
    "from torchvision.datasets import MNIST\n",
    "from torchvision import datasets, transforms\n",
    "from torchvision.io import read_image\n",
    "\n",
    "# from torchvision.transforms import ToTensor\n",
    "import pytorch_lightning as pl\n",
    "from pytorch_lightning.loggers import WandbLogger\n",
    "from pytorch_lightning.callbacks.early_stopping import EarlyStopping"
   ]
  },
  {
   "cell_type": "code",
   "execution_count": 62,
   "id": "74889474",
   "metadata": {},
   "outputs": [],
   "source": [
    "# update the location where models will be saved to\n",
    "if torch.hub.get_dir() == '/clusterdata/uqsmac12/.cache/torch/hub':\n",
    "    torch.hub.set_dir('/scratch/smp/uqsmac12/.cache/torch/hub')"
   ]
  },
  {
   "cell_type": "code",
   "execution_count": 5,
   "id": "ec73fba2",
   "metadata": {
    "scrolled": true
   },
   "outputs": [],
   "source": []
  },
  {
   "cell_type": "code",
   "execution_count": null,
   "id": "c6432446",
   "metadata": {},
   "outputs": [],
   "source": [
    "# setup new conda environment\n",
    "\n",
    "# load data\n",
    "\n",
    "# implement somthing similar to STimage1\n",
    "\n",
    "# test likelihood assumption with log [CPT] data transform\n",
    "# test likelihood assumption without transform"
   ]
  },
  {
   "cell_type": "markdown",
   "id": "51505b85",
   "metadata": {},
   "source": [
    "# load data"
   ]
  },
  {
   "cell_type": "code",
   "execution_count": 6,
   "id": "7a4fc1e8",
   "metadata": {
    "scrolled": true
   },
   "outputs": [
    {
     "data": {
      "text/plain": [
       "True"
      ]
     },
     "execution_count": 6,
     "metadata": {},
     "output_type": "execute_result"
    }
   ],
   "source": [
    "torch.cuda.is_available()"
   ]
  },
  {
   "cell_type": "code",
   "execution_count": 7,
   "id": "8ff2f4ba",
   "metadata": {},
   "outputs": [],
   "source": [
    "DIR_DATA = '/scratch/smp/uqsmac12/stimage2_data'\n",
    "DIR_CHECKPOINTS = os.path.join(DIR_DATA, 'checkpoints')\n",
    "DIR_WANDB = DIR_DATA"
   ]
  },
  {
   "cell_type": "code",
   "execution_count": 8,
   "id": "11779f47",
   "metadata": {},
   "outputs": [],
   "source": [
    "DIR_TILES = '/scratch/smp/uqsmac12/dataset_breast_cancer_9visium'\n",
    "DIR_ANNDATA_PROCESSED = '/scratch/smp/uqsmac12/dataset_breast_cancer_9visium'\n",
    "file_processed_alex_data = 'all_adata.h5ad'\n",
    "# DIR_PROCESSED_DATA = '/afm03/Q2/Q2051/STimage_project/STimage_dataset/PROCESSED/dataset_breast_cancer_9visium'"
   ]
  },
  {
   "cell_type": "code",
   "execution_count": 9,
   "id": "f2d3ad6a",
   "metadata": {},
   "outputs": [],
   "source": [
    "adata_all = read_h5ad(os.path.join(DIR_ANNDATA_PROCESSED, file_processed_alex_data))"
   ]
  },
  {
   "cell_type": "code",
   "execution_count": 10,
   "id": "179deb54",
   "metadata": {},
   "outputs": [],
   "source": [
    "# update metadata for annadata such that it maps to the correct location\n",
    "adata_all.obs[\"tile_path\"] = adata_all.obs.tile_path.map(\n",
    "    lambda x: x.replace(\"/clusterdata/uqxtan9/Xiao/breast_cancer_9visium\",\n",
    "                        DIR_TILES))"
   ]
  },
  {
   "cell_type": "code",
   "execution_count": 11,
   "id": "0c7a3eb5",
   "metadata": {},
   "outputs": [],
   "source": [
    "assert 'uqsmac12' in adata_all.obs['tile_path'][0]"
   ]
  },
  {
   "cell_type": "code",
   "execution_count": 12,
   "id": "f37bc4a0",
   "metadata": {},
   "outputs": [],
   "source": [
    "gene_list = [\"COX6C\",\"TTLL12\", \"PABPC1\", \"GNAS\", \"HSP90AB1\", \"TFF3\", \"ATP1A1\", \"B2M\", \"FASN\", \"SPARC\", \"CD74\", \"CD63\", \"CD24\", \"CD81\"]"
   ]
  },
  {
   "cell_type": "markdown",
   "id": "a4d00c19",
   "metadata": {},
   "source": [
    "The gene expressions, $X$, are log transformed, hence $\\exp(X)\\sim\\text{NegativeBinomial}(.)$"
   ]
  },
  {
   "cell_type": "code",
   "execution_count": 13,
   "id": "b5510b3c",
   "metadata": {},
   "outputs": [
    {
     "data": {
      "text/plain": [
       "(24578, 14664)"
      ]
     },
     "execution_count": 13,
     "metadata": {},
     "output_type": "execute_result"
    }
   ],
   "source": [
    "adata_all.shape"
   ]
  },
  {
   "cell_type": "markdown",
   "id": "4a555084",
   "metadata": {},
   "source": [
    "Get counts"
   ]
  },
  {
   "cell_type": "code",
   "execution_count": 14,
   "id": "29a41a93",
   "metadata": {},
   "outputs": [],
   "source": [
    "def logX_to_counts(X):\n",
    "    return np.exp(X).round(0).astype(int)"
   ]
  },
  {
   "cell_type": "code",
   "execution_count": 15,
   "id": "3be4f0bd",
   "metadata": {},
   "outputs": [],
   "source": [
    "def counts_to_cpm(X):\n",
    "    lib_size = X.sum(axis=1).reshape(-1,1)\n",
    "    X = X * 1e6 / lib_size\n",
    "    return X"
   ]
  },
  {
   "cell_type": "markdown",
   "id": "c77349cf",
   "metadata": {},
   "source": [
    "log (cpm) appears best... why it doesn't get used is a bit of a mystery."
   ]
  },
  {
   "cell_type": "code",
   "execution_count": null,
   "id": "732de0e3",
   "metadata": {},
   "outputs": [],
   "source": [
    "x_counts = np.exp(adata_all[:,'COX6C'].to_df().values.reshape(-1))\n",
    "plt.hist(x_counts, bins=100, label='x')\n",
    "plt.legend()\n",
    "plt.show()\n",
    "plt.hist(np.log(x_counts), bins=100, label='log(x)')\n",
    "plt.legend()\n",
    "plt.show()"
   ]
  },
  {
   "cell_type": "code",
   "execution_count": 108,
   "id": "10496b10",
   "metadata": {
    "scrolled": true
   },
   "outputs": [
    {
     "data": {
      "text/plain": [
       "'/scratch/smp/uqsmac12/dataset_breast_cancer_9visium/tiles/1142243F-19778-12811-299.jpeg'"
      ]
     },
     "execution_count": 108,
     "metadata": {},
     "output_type": "execute_result"
    }
   ],
   "source": [
    "# dataset_train.adata.obs_names\n",
    "dataset_train.adata.obs.loc['TATGGGACCGAGCAGG-1-1142243F', 'tile_path']"
   ]
  },
  {
   "cell_type": "code",
   "execution_count": 110,
   "id": "8daf05a3",
   "metadata": {},
   "outputs": [
    {
     "data": {
      "text/plain": [
       "['1142243F', 'block2', '1160920F', 'block1', 'CID4535', 'CID4290', 'CID44971', 'CID4465']\n",
       "Categories (8, object): ['1142243F', '1160920F', 'CID4290', 'CID4465', 'CID44971', 'CID4535', 'block1', 'block2']"
      ]
     },
     "execution_count": 110,
     "metadata": {},
     "output_type": "execute_result"
    }
   ],
   "source": [
    "dataset_train.adata.obs['library_id'].unique()"
   ]
  },
  {
   "cell_type": "code",
   "execution_count": 25,
   "id": "bb06f54b",
   "metadata": {},
   "outputs": [],
   "source": [
    "class STimageDataset(Dataset):\n",
    "    '''\n",
    "    Note that the `transform` and `target_transform` arguments can be used to \n",
    "    adjust the target variables as needed.\n",
    "    '''\n",
    "    def __init__(self, adata, genes=None, transform=None, target_transform=None):\n",
    "        self.adata = adata\n",
    "        self.genes = genes\n",
    "        self.num_genes = len(genes)\n",
    "        self.transform = transform\n",
    "        self.target_transform = target_transform\n",
    "        \n",
    "    def __len__(self):\n",
    "        \n",
    "        return int(self.adata.n_obs)\n",
    "    \n",
    "    def __getitem__(self, idx):\n",
    "        idx_name = adata_all.obs_names[idx]\n",
    "        X_img = self.load_img(idx_name)\n",
    "        y = self.get_expression(idx_name)\n",
    "        \n",
    "        return X_img, y\n",
    "    \n",
    "    def load_img(self, key):\n",
    "        \"\"\"load an image\"\"\"\n",
    "        img_path = self.adata.obs.loc[key, 'tile_path']\n",
    "        X_img = read_image(img_path)\n",
    "            \n",
    "        if self.transform:\n",
    "            X_img = self.transform(X_img)\n",
    "        \n",
    "        return X_img\n",
    "    \n",
    "    def get_expression(self, key):\n",
    "        y = torch.Tensor(adata_all[idx_name, gene_list].to_df().values)\n",
    "        \n",
    "        if self.target_transform:\n",
    "            y = self.target_transform(y)\n",
    "        \n",
    "        return y"
   ]
  },
  {
   "cell_type": "markdown",
   "id": "d0379cf7",
   "metadata": {},
   "source": [
    "# split train, val, test datasets"
   ]
  },
  {
   "cell_type": "code",
   "execution_count": 74,
   "id": "02c2af61",
   "metadata": {},
   "outputs": [],
   "source": [
    "# test_categories = [\"FFPE\", \"1160920F\"]\n",
    "test_categories = ['FFPE']"
   ]
  },
  {
   "cell_type": "code",
   "execution_count": 75,
   "id": "1c2babd6",
   "metadata": {
    "scrolled": false
   },
   "outputs": [
    {
     "data": {
      "text/plain": [
       "(24578, 14664)"
      ]
     },
     "execution_count": 75,
     "metadata": {},
     "output_type": "execute_result"
    }
   ],
   "source": [
    "adata_all.shape"
   ]
  },
  {
   "cell_type": "code",
   "execution_count": 76,
   "id": "b0425c34",
   "metadata": {
    "scrolled": true
   },
   "outputs": [
    {
     "data": {
      "text/plain": [
       "(22240, 14664)"
      ]
     },
     "execution_count": 76,
     "metadata": {},
     "output_type": "execute_result"
    }
   ],
   "source": [
    "adata_dev = adata_all[~adata_all.obs['library_id'].isin(test_categories)]\n",
    "adata_dev.shape"
   ]
  },
  {
   "cell_type": "code",
   "execution_count": 77,
   "id": "ae22c744",
   "metadata": {},
   "outputs": [
    {
     "data": {
      "text/plain": [
       "(2338, 14664)"
      ]
     },
     "execution_count": 77,
     "metadata": {},
     "output_type": "execute_result"
    }
   ],
   "source": [
    "adata_test = adata_all[adata_all.obs['library_id'].isin(test_categories)]\n",
    "adata_test.shape"
   ]
  },
  {
   "cell_type": "code",
   "execution_count": 91,
   "id": "2188795f",
   "metadata": {},
   "outputs": [],
   "source": [
    "# get train \n",
    "validation_split = 0.2\n",
    "\n",
    "indices = list(adata_dev.obs_names)\n",
    "\n",
    "np.random.shuffle(indices)\n",
    "dataset_size = len(indices)\n",
    "\n",
    "split_loc = int(np.floor(validation_split * dataset_size))\n",
    "train_indices, val_indices = indices[split_loc:], indices[:split_loc]\n",
    "# train_sampler = SubsetRandomSampler(train_indices)\n",
    "# valid_sampler = SubsetRandomSampler(val_indices)\n",
    "\n",
    "adata_train = adata_dev[train_indices,:]\n",
    "adata_val = adata_dev[val_indices,:]"
   ]
  },
  {
   "cell_type": "code",
   "execution_count": 96,
   "id": "e6c7db9c",
   "metadata": {},
   "outputs": [],
   "source": [
    "dataset_train = STimageDataset(adata_train, genes=gene_list)\n",
    "dataset_val = STimageDataset(adata_val, genes=gene_list)\n",
    "dataset_test = STimageDataset(adata_test, genes=gene_list)"
   ]
  },
  {
   "cell_type": "code",
   "execution_count": 94,
   "id": "772824d2",
   "metadata": {
    "scrolled": false
   },
   "outputs": [
    {
     "data": {
      "text/plain": [
       "17792"
      ]
     },
     "execution_count": 94,
     "metadata": {},
     "output_type": "execute_result"
    }
   ],
   "source": [
    "len(dataset_train)"
   ]
  },
  {
   "cell_type": "code",
   "execution_count": 95,
   "id": "0e76ac7e",
   "metadata": {},
   "outputs": [
    {
     "data": {
      "text/plain": [
       "4448"
      ]
     },
     "execution_count": 95,
     "metadata": {},
     "output_type": "execute_result"
    }
   ],
   "source": [
    "len(dataset_val)"
   ]
  },
  {
   "cell_type": "code",
   "execution_count": 97,
   "id": "a52b40f6",
   "metadata": {},
   "outputs": [
    {
     "data": {
      "text/plain": [
       "2338"
      ]
     },
     "execution_count": 97,
     "metadata": {},
     "output_type": "execute_result"
    }
   ],
   "source": [
    "len(dataset_test)"
   ]
  },
  {
   "cell_type": "markdown",
   "id": "969422e7",
   "metadata": {},
   "source": [
    "# dataloader"
   ]
  },
  {
   "cell_type": "code",
   "execution_count": 99,
   "id": "af89ff58",
   "metadata": {},
   "outputs": [],
   "source": [
    "dataloader_train = DataLoader(dataset_train, batch_size=64, shuffle=True)\n",
    "dataloader_val = DataLoader(dataset_val, batch_size=64, shuffle=True)\n",
    "dataloader_test = DataLoader(dataset_test, batch_size=64, shuffle=False)"
   ]
  },
  {
   "cell_type": "markdown",
   "id": "9a7591bd",
   "metadata": {},
   "source": [
    "# train pretrained resnet"
   ]
  },
  {
   "cell_type": "code",
   "execution_count": null,
   "id": "4068088d",
   "metadata": {},
   "outputs": [],
   "source": []
  },
  {
   "cell_type": "markdown",
   "id": "1334758a",
   "metadata": {},
   "source": [
    "# Pytorch module"
   ]
  },
  {
   "cell_type": "code",
   "execution_count": 31,
   "id": "c0b3b8f1",
   "metadata": {},
   "outputs": [
    {
     "ename": "KeyError",
     "evalue": "'TORCH_HOME'",
     "output_type": "error",
     "traceback": [
      "\u001b[0;31m---------------------------------------------------------------------------\u001b[0m",
      "\u001b[0;31mKeyError\u001b[0m                                  Traceback (most recent call last)",
      "Cell \u001b[0;32mIn[31], line 1\u001b[0m\n\u001b[0;32m----> 1\u001b[0m \u001b[43mos\u001b[49m\u001b[38;5;241;43m.\u001b[39;49m\u001b[43menviron\u001b[49m\u001b[43m[\u001b[49m\u001b[38;5;124;43m'\u001b[39;49m\u001b[38;5;124;43mTORCH_HOME\u001b[39;49m\u001b[38;5;124;43m'\u001b[39;49m\u001b[43m]\u001b[49m\n",
      "File \u001b[0;32m/scratch/smp/uqsmac12/.conda/env/lit_torch_gp/lib/python3.8/os.py:675\u001b[0m, in \u001b[0;36m_Environ.__getitem__\u001b[0;34m(self, key)\u001b[0m\n\u001b[1;32m    672\u001b[0m     value \u001b[38;5;241m=\u001b[39m \u001b[38;5;28mself\u001b[39m\u001b[38;5;241m.\u001b[39m_data[\u001b[38;5;28mself\u001b[39m\u001b[38;5;241m.\u001b[39mencodekey(key)]\n\u001b[1;32m    673\u001b[0m \u001b[38;5;28;01mexcept\u001b[39;00m \u001b[38;5;167;01mKeyError\u001b[39;00m:\n\u001b[1;32m    674\u001b[0m     \u001b[38;5;66;03m# raise KeyError with the original key value\u001b[39;00m\n\u001b[0;32m--> 675\u001b[0m     \u001b[38;5;28;01mraise\u001b[39;00m \u001b[38;5;167;01mKeyError\u001b[39;00m(key) \u001b[38;5;28;01mfrom\u001b[39;00m \u001b[38;5;28mNone\u001b[39m\n\u001b[1;32m    676\u001b[0m \u001b[38;5;28;01mreturn\u001b[39;00m \u001b[38;5;28mself\u001b[39m\u001b[38;5;241m.\u001b[39mdecodevalue(value)\n",
      "\u001b[0;31mKeyError\u001b[0m: 'TORCH_HOME'"
     ]
    }
   ],
   "source": [
    "os.environ['TORCH_HOME']"
   ]
  },
  {
   "cell_type": "markdown",
   "id": "7cfcf9cf",
   "metadata": {},
   "source": [
    "# lit module"
   ]
  },
  {
   "cell_type": "code",
   "execution_count": 102,
   "id": "83c043b8",
   "metadata": {},
   "outputs": [],
   "source": [
    "import torchvision"
   ]
  },
  {
   "cell_type": "code",
   "execution_count": 32,
   "id": "7ebcab75",
   "metadata": {},
   "outputs": [
    {
     "data": {
      "text/plain": [
       "'/clusterdata/uqsmac12/.cache/torch/hub'"
      ]
     },
     "execution_count": 32,
     "metadata": {},
     "output_type": "execute_result"
    }
   ],
   "source": []
  },
  {
   "cell_type": "code",
   "execution_count": 35,
   "id": "0f4ee686",
   "metadata": {},
   "outputs": [],
   "source": [
    "torch.hub.set_dir('/scratch/smp/uqsmac12/.cache/torch/hub')"
   ]
  },
  {
   "cell_type": "code",
   "execution_count": 36,
   "id": "15716645",
   "metadata": {},
   "outputs": [
    {
     "data": {
      "text/plain": [
       "'/scratch/smp/uqsmac12/.cache/torch/hub'"
      ]
     },
     "execution_count": 36,
     "metadata": {},
     "output_type": "execute_result"
    }
   ],
   "source": [
    "torch.hub.get_dir()"
   ]
  },
  {
   "cell_type": "code",
   "execution_count": 103,
   "id": "238f5e6e",
   "metadata": {},
   "outputs": [],
   "source": [
    "class ImagenetTransferLearning(pl.LightningModule):\n",
    "    def __init__(self):\n",
    "        super().__init__(output_dim, pretrained_model=None)\n",
    "        \n",
    "        if not pretrained_model:\n",
    "            backbone = torchvision.models.resnet18(weights=\"DEFAULT\")\n",
    "        else:\n",
    "            raise NotImplementedError(\"requires testing and planning\")\n",
    "            backbone = pretrained_model\n",
    "            \n",
    "        num_filters = backbone.fc.in_features\n",
    "        layers = list(backbone.children())[:-1]\n",
    "        self.feature_extractor = nn.Sequential(*layers)\n",
    "        \n",
    "        # use the pretrained model\n",
    "        self.regession = nn.Linear(num_filters, output_dim)\n",
    "        \n",
    "    def forward(self, x):\n",
    "        self.feature_extractor.eval()\n",
    "        \n",
    "        with torch.no_grad():\n",
    "            representations = self.feature_extractor(x).flatten(1)\n",
    "        x = self.regression(representations)"
   ]
  },
  {
   "cell_type": "code",
   "execution_count": 104,
   "id": "a4c3877a",
   "metadata": {
    "scrolled": true
   },
   "outputs": [],
   "source": [
    "# finetune\n",
    "model = ImagenetTransferLearning()"
   ]
  },
  {
   "cell_type": "code",
   "execution_count": 112,
   "id": "84535db7",
   "metadata": {},
   "outputs": [
    {
     "ename": "AttributeError",
     "evalue": "'Sequential' object has no attribute 'requires_grad'",
     "output_type": "error",
     "traceback": [
      "\u001b[0;31m---------------------------------------------------------------------------\u001b[0m",
      "\u001b[0;31mAttributeError\u001b[0m                            Traceback (most recent call last)",
      "Cell \u001b[0;32mIn[112], line 2\u001b[0m\n\u001b[1;32m      1\u001b[0m \u001b[38;5;28;01mfor\u001b[39;00m param \u001b[38;5;129;01min\u001b[39;00m model\u001b[38;5;241m.\u001b[39mchildren():\n\u001b[0;32m----> 2\u001b[0m     \u001b[38;5;28mprint\u001b[39m(\u001b[43mparam\u001b[49m\u001b[38;5;241;43m.\u001b[39;49m\u001b[43mrequires_grad\u001b[49m)\n",
      "File \u001b[0;32m/scratch/smp/uqsmac12/.conda/env/lit_torch_gp/lib/python3.8/site-packages/torch/nn/modules/module.py:1269\u001b[0m, in \u001b[0;36mModule.__getattr__\u001b[0;34m(self, name)\u001b[0m\n\u001b[1;32m   1267\u001b[0m     \u001b[38;5;28;01mif\u001b[39;00m name \u001b[38;5;129;01min\u001b[39;00m modules:\n\u001b[1;32m   1268\u001b[0m         \u001b[38;5;28;01mreturn\u001b[39;00m modules[name]\n\u001b[0;32m-> 1269\u001b[0m \u001b[38;5;28;01mraise\u001b[39;00m \u001b[38;5;167;01mAttributeError\u001b[39;00m(\u001b[38;5;124m\"\u001b[39m\u001b[38;5;124m'\u001b[39m\u001b[38;5;132;01m{}\u001b[39;00m\u001b[38;5;124m'\u001b[39m\u001b[38;5;124m object has no attribute \u001b[39m\u001b[38;5;124m'\u001b[39m\u001b[38;5;132;01m{}\u001b[39;00m\u001b[38;5;124m'\u001b[39m\u001b[38;5;124m\"\u001b[39m\u001b[38;5;241m.\u001b[39mformat(\n\u001b[1;32m   1270\u001b[0m     \u001b[38;5;28mtype\u001b[39m(\u001b[38;5;28mself\u001b[39m)\u001b[38;5;241m.\u001b[39m\u001b[38;5;18m__name__\u001b[39m, name))\n",
      "\u001b[0;31mAttributeError\u001b[0m: 'Sequential' object has no attribute 'requires_grad'"
     ]
    }
   ],
   "source": [
    "for param in model.children():\n",
    "    print(param.requires_grad)"
   ]
  },
  {
   "cell_type": "code",
   "execution_count": 117,
   "id": "6ed679d5",
   "metadata": {},
   "outputs": [
    {
     "data": {
      "text/plain": [
       "<bound method Module.requires_grad_ of Conv2d(3, 64, kernel_size=(7, 7), stride=(2, 2), padding=(3, 3), bias=False)>"
      ]
     },
     "execution_count": 117,
     "metadata": {},
     "output_type": "execute_result"
    }
   ],
   "source": [
    "param[0]."
   ]
  },
  {
   "cell_type": "code",
   "execution_count": null,
   "id": "7f1ea8d8",
   "metadata": {},
   "outputs": [],
   "source": [
    "\n",
    "trainer = Trainer()\n",
    "trainer.fit(model)"
   ]
  },
  {
   "cell_type": "code",
   "execution_count": null,
   "id": "c8f474bf",
   "metadata": {},
   "outputs": [],
   "source": []
  },
  {
   "cell_type": "code",
   "execution_count": null,
   "id": "dd594a7e",
   "metadata": {},
   "outputs": [],
   "source": [
    "def create_model():\n",
    "    model = torchvision.models.resnet18(pretrained=False, num_classes=10)\n",
    "    model.conv1 = nn.Conv2d(3, 64, kernel_size=(3, 3), stride=(1, 1), padding=(1, 1), bias=False)\n",
    "    model.maxpool = nn.Identity()\n",
    "    return model"
   ]
  },
  {
   "cell_type": "code",
   "execution_count": null,
   "id": "18bf2275",
   "metadata": {},
   "outputs": [],
   "source": [
    "# # use to predict data of interest\n",
    "# model = ImagenetTransferLearning.load_from_checkpoint(PATH)\n",
    "# model.freeze()\n",
    "\n",
    "# x = some_images_from_cifar10()\n",
    "# predictions = model(x)"
   ]
  },
  {
   "cell_type": "code",
   "execution_count": null,
   "id": "c216a37c",
   "metadata": {},
   "outputs": [],
   "source": []
  },
  {
   "cell_type": "code",
   "execution_count": null,
   "id": "8ded679f",
   "metadata": {},
   "outputs": [],
   "source": [
    "class LitAutoEncoder(pl.LightningModule):\n",
    "    \"\"\"\n",
    "    Lightning module is full recipe defining how modules interact\n",
    "    \"\"\"\n",
    "    def __init__(self, encoder, decoder):\n",
    "        super().__init__()\n",
    "        \n",
    "        self.encoder = encoder \n",
    "        self.decoder = decoder\n",
    "        \n",
    "        self.save_hyperparameters(ignore=['encoder', 'decoder']) # 'gives model attribute 'hyper_parameters'\n",
    "\n",
    "    def training_step(self, batch, batch_idx):\n",
    "        # training_step defines the train loop.\n",
    "        x, y = batch\n",
    "        x = x.view(x.size(0), -1) # reshape since autoencoder is mlp\n",
    "        z = self.encoder(x)\n",
    "        x_hat = self.decoder(z)\n",
    "        loss = F.mse_loss(x_hat, x)\n",
    "        self.log('train_loss', loss)\n",
    "        return loss\n",
    "    \n",
    "    def validation_step(self, batch, batch_idx):\n",
    "        if trainer.global_step == 0:\n",
    "            wandb.define_metric('val_loss', summary='min')\n",
    "        # this is the validation loop\n",
    "        x, y = batch\n",
    "        x = x.view(x.size(0), -1)\n",
    "        z = self.encoder(x)\n",
    "        x_hat = self.decoder(z)\n",
    "        val_loss = F.mse_loss(x_hat, x)\n",
    "        self.log(\"val_loss\", val_loss) # what is monitored\n",
    "    \n",
    "    def test_step(self, batch, batch_idx):\n",
    "        # this is the test loop\n",
    "        x, y = batch\n",
    "        x = x.view(x.size(0), -1)\n",
    "        z = self.encoder(x)\n",
    "        x_hat = self.decoder(z)\n",
    "        test_loss = F.mse_loss(x_hat, x)\n",
    "        self.log(\"test_loss\", test_loss)\n",
    "\n",
    "    def configure_optimizers(self, lr=1e-3):\n",
    "        optimizer = torch.optim.Adam(self.parameters(), lr=lr)\n",
    "        return optimizer"
   ]
  },
  {
   "cell_type": "markdown",
   "id": "e536c871",
   "metadata": {},
   "source": [
    "# logger"
   ]
  },
  {
   "cell_type": "code",
   "execution_count": null,
   "id": "0610e36e",
   "metadata": {},
   "outputs": [],
   "source": [
    "wandb_logger = WandbLogger(\n",
    "    project=\"Stimage2\", \n",
    "    log_model=\"all\",\n",
    "    save_dir=DIR_WANDB,\n",
    "    name='stimage1_likelihood_sensitivity' # run names\n",
    ")"
   ]
  },
  {
   "cell_type": "raw",
   "id": "eba0e54b",
   "metadata": {},
   "source": [
    "# wandb_logger.watch(autoencoder)"
   ]
  },
  {
   "cell_type": "markdown",
   "id": "8400c262",
   "metadata": {},
   "source": [
    "# dataset"
   ]
  },
  {
   "cell_type": "code",
   "execution_count": null,
   "id": "1b362795",
   "metadata": {},
   "outputs": [],
   "source": [
    "# # dataset\n",
    "# train_set = MNIST(root=DIR_DATA, download=True, transform=transforms.ToTensor())\n",
    "# test_set = MNIST(root=DIR_DATA, download=True, train=False, transform=transforms.ToTensor())\n",
    "\n",
    "# # use 20% of training data for validation\n",
    "# train_set_size = int(len(train_set) * 0.8)\n",
    "# valid_set_size = len(train_set) - train_set_size\n",
    "\n",
    "# # split the train set into two\n",
    "# seed = torch.Generator().manual_seed(42)\n",
    "# train_set, valid_set = random_split(train_set, [train_set_size, valid_set_size], generator=seed)\n",
    "\n",
    "# # dataloaders\n",
    "# train_loader = DataLoader(train_set, batch_size=256, num_workers=8)\n",
    "# valid_loader = DataLoader(valid_set, batch_size=256, num_workers=8)\n",
    "# test_loader = DataLoader(test_set, batch_size=256, num_workers=8)"
   ]
  },
  {
   "cell_type": "markdown",
   "id": "f59871af",
   "metadata": {},
   "source": [
    "# trainer\n"
   ]
  },
  {
   "cell_type": "code",
   "execution_count": null,
   "id": "06f22ddf",
   "metadata": {},
   "outputs": [],
   "source": [
    "# train model\n",
    "early_stopping_callback = EarlyStopping(monitor=\"val_loss\", mode=\"min\", patience=3,)\n",
    "checkpoint_callback = pl.callbacks.ModelCheckpoint(\n",
    "    dirpath=None, monitor=\"val_loss\", save_top_k=1, every_n_epochs=None\n",
    ")\n",
    "\n",
    "trainer = pl.Trainer(\n",
    "    default_root_dir=DIR_CHECKPOINTS, \n",
    "    enable_checkpointing=True, \n",
    "    accelerator='gpu', \n",
    "    logger=wandb_logger,\n",
    "    callbacks=[early_stopping_callback],\n",
    "    \n",
    ")\n",
    "\n",
    "trainer.fit(model=autoencoder, train_dataloaders=train_loader, val_dataloaders=valid_loader)"
   ]
  },
  {
   "cell_type": "markdown",
   "id": "ebcc19d4",
   "metadata": {},
   "source": [
    "# SUPERSEDED"
   ]
  },
  {
   "cell_type": "raw",
   "id": "cab29f84",
   "metadata": {},
   "source": [
    "import sys\n",
    "from pathlib import Path\n",
    "import os\n",
    "import numpy as np\n",
    "# import pandas as pd\n",
    "from pathlib import Path, PurePath\n",
    "from typing import Union, Dict, Optional, Tuple, BinaryIO\n",
    "import h5py\n",
    "import json\n",
    "from matplotlib.image import imread\n",
    "import matplotlib.pyplot as plt\n",
    "\n",
    "import anndata\n",
    "from anndata import (\n",
    "    AnnData,\n",
    "    read_csv,\n",
    "    read_text,\n",
    "    read_excel,\n",
    "    read_mtx,\n",
    "    read_loom,\n",
    "    read_hdf,\n",
    ")\n",
    "from anndata import read as read_h5ad\n",
    "from anndata import read_h5ad\n",
    "import scanpy as sc\n",
    "from scanpy import read_visium, read_10x_mtx\n",
    "\n",
    "import glob\n",
    "import torch\n",
    "import torchvision\n",
    "import pandas as pd \n",
    "# import scprep as scp\n",
    "import anndata as ad\n",
    "import seaborn as sns\n",
    "import torch.nn as nn\n",
    "import torch.optim as optim\n",
    "import torch.nn.functional as F\n",
    "import torchvision.transforms as transforms\n",
    "from PIL import ImageFile, Image"
   ]
  },
  {
   "cell_type": "markdown",
   "id": "6b18dccd",
   "metadata": {},
   "source": [
    "## SEE notebook `stimage1_basic_expression_vis`"
   ]
  },
  {
   "cell_type": "code",
   "execution_count": 123,
   "id": "6f399aa2",
   "metadata": {
    "scrolled": false
   },
   "outputs": [
    {
     "data": {
      "image/png": "[encoded data removed]",
      "text/plain": [
       "<Figure size 500x1000 with 4 Axes>"
      ]
     },
     "metadata": {},
     "output_type": "display_data"
    }
   ],
   "source": [
    "gene = 'PABPC1'\n",
    "\n",
    "x_cpm = df_X_cpm[gene].values.reshape(-1)\n",
    "\n",
    "x_counts = np.exp(adata_all[:,gene].to_df().values.reshape(-1)).round(0).astype(int)\n",
    "\n",
    "fig, ax = plt.subplots(nrows=4, ncols=1, figsize=(5,10))\n",
    "ax[0].hist(x_counts, bins=100, label='counts')\n",
    "ax[0].legend()\n",
    "ax[1].hist(np.log(x_counts), bins=100, label='log (counts)')\n",
    "ax[1].legend()\n",
    "ax[2].hist(x_cpm, bins=100, label='cpm')\n",
    "ax[2].legend()\n",
    "ax[3].hist(np.log(x_cpm), bins=100, label='log (cpm)')\n",
    "ax[3].legend()\n",
    "fig.show()"
   ]
  },
  {
   "cell_type": "code",
   "execution_count": 121,
   "id": "69a81e82",
   "metadata": {
    "scrolled": true
   },
   "outputs": [
    {
     "data": {
      "image/png": "[encoded data removed]",
      "text/plain": [
       "<Figure size 500x1000 with 4 Axes>"
      ]
     },
     "metadata": {},
     "output_type": "display_data"
    }
   ],
   "source": [
    "gene = 'COX6C'\n",
    "\n",
    "x_cpm = df_X_cpm[gene].values.reshape(-1)\n",
    "\n",
    "x_counts = np.exp(adata_all[:,gene].to_df().values.reshape(-1)).round(0).astype(int)\n",
    "\n",
    "fig, ax = plt.subplots(nrows=4, ncols=1, figsize=(5,10))\n",
    "ax[0].hist(x_counts, bins=100, label='counts')\n",
    "ax[0].legend()\n",
    "ax[1].hist(np.log(x_counts), bins=100, label='log (counts)')\n",
    "ax[1].legend()\n",
    "ax[2].hist(x_cpm, bins=100, label='cpm')\n",
    "ax[2].legend()\n",
    "ax[3].hist(np.log(x_cpm), bins=100, label='log (cpm)')\n",
    "ax[3].legend()\n",
    "fig.show()"
   ]
  }
 ],
 "metadata": {
  "kernelspec": {
   "display_name": "lit_torch_gp",
   "language": "python",
   "name": "python3"
  },
  "language_info": {
   "codemirror_mode": {
    "name": "ipython",
    "version": 3
   },
   "file_extension": ".py",
   "mimetype": "text/x-python",
   "name": "python",
   "nbconvert_exporter": "python",
   "pygments_lexer": "ipython3",
   "version": "3.8.6"
  }
 },
 "nbformat": 4,
 "nbformat_minor": 5
}
