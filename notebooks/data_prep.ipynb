{
 "cells": [
  {
   "cell_type": "code",
   "execution_count": null,
   "metadata": {},
   "outputs": [],
   "source": [
    "import os\n",
    "os.environ['PATH'] = '/scratch/smp/uqsmac12/.conda/env/lit_torch_gp/bin:' + os.environ['PATH']"
   ]
  },
  {
   "cell_type": "code",
   "execution_count": null,
   "metadata": {},
   "outputs": [],
   "source": [
    "!which python"
   ]
  },
  {
   "cell_type": "code",
   "execution_count": 1,
   "metadata": {},
   "outputs": [
    {
     "name": "stderr",
     "output_type": "stream",
     "text": [
      "/scratch/smp/uqsmac12/.conda/env/lit_torch_gp/lib/python3.8/site-packages/tqdm/auto.py:21: TqdmWarning: IProgress not found. Please update jupyter and ipywidgets. See https://ipywidgets.readthedocs.io/en/stable/user_install.html\n",
      "  from .autonotebook import tqdm as notebook_tqdm\n"
     ]
    }
   ],
   "source": [
    "import os\n",
    "from anndata import read_h5ad\n",
    "import numpy as np\n",
    "import pandas as pd\n",
    "import os\n",
    "import torch\n",
    "\n",
    "from torch.utils.data import Dataset, DataLoader, random_split\n",
    "from torch.nn import functional as F\n",
    "\n",
    "from torch import optim, nn, utils, Tensor\n",
    "from torchvision.datasets import MNIST\n",
    "from torchvision import datasets, transforms\n",
    "from torchvision.io import read_image\n",
    "# from torchvision.transforms import ToTensor\n",
    "import pytorch_lightning as pl\n",
    "from pytorch_lightning.loggers import WandbLogger\n",
    "from pytorch_lightning.callbacks.early_stopping import EarlyStopping\n",
    "\n"
   ]
  },
  {
   "cell_type": "code",
   "execution_count": 2,
   "metadata": {},
   "outputs": [],
   "source": [
    "# update the location where models will be saved to\n",
    "if torch.hub.get_dir() == '/clusterdata/uqsmac12/.cache/torch/hub':\n",
    "    torch.hub.set_dir('/scratch/smp/uqsmac12/.cache/torch/hub')"
   ]
  },
  {
   "cell_type": "code",
   "execution_count": 3,
   "metadata": {},
   "outputs": [],
   "source": []
  },
  {
   "cell_type": "code",
   "execution_count": 4,
   "metadata": {},
   "outputs": [
    {
     "data": {
      "text/plain": [
       "True"
      ]
     },
     "execution_count": 4,
     "metadata": {},
     "output_type": "execute_result"
    }
   ],
   "source": [
    "torch.cuda.is_available()"
   ]
  },
  {
   "cell_type": "code",
   "execution_count": 7,
   "metadata": {
    "vscode": {
     "languageId": "plaintext"
    }
   },
   "outputs": [],
   "source": [
    "DIR_DATA = '/scratch/smp/uqsmac12/stimage2_data'\n",
    "\n",
    "# DIR_WANDB = DIR_DATA\n",
    "DIR_TILES = '/scratch/smp/uqsmac12/dataset_breast_cancer_9visium'\n",
    "DIR_ANNDATA_PROCESSED = '/scratch/smp/uqsmac12/dataset_breast_cancer_9visium'\n",
    "file_processed_alex_data = 'all_adata.h5ad'\n",
    "# DIR_PROCESSED_DATA = '/afm03/Q2/Q2051/STimage_project/STimage_dataset/PROCESSED/dataset_breast_cancer_9visium'\n",
    "DIR_RAW_DATA = '/afm03/Q2/Q2051/STimage_project/STimage_dataset/RAW/Alex_NatGen_6BreastCancer'\n",
    "DIR_RAW_METADATA = os.path.join(DIR_RAW_DATA, 'metadata')\n",
    "\n",
    "DIR_CHECKPOINTS = os.path.join(DIR_DATA, 'checkpoints')\n",
    "# location to save data\n",
    "DIR_PROCESSED_DATASET = os.path.join(DIR_DATA, 'data_processed')"
   ]
  },
  {
   "cell_type": "markdown",
   "metadata": {},
   "source": [
    "## load data"
   ]
  },
  {
   "cell_type": "code",
   "execution_count": 8,
   "metadata": {
    "vscode": {
     "languageId": "plaintext"
    }
   },
   "outputs": [],
   "source": [
    "adata_all = read_h5ad(os.path.join(DIR_ANNDATA_PROCESSED, file_processed_alex_data))"
   ]
  },
  {
   "cell_type": "markdown",
   "metadata": {},
   "source": [
    "## Get image and RNA data"
   ]
  },
  {
   "cell_type": "code",
   "execution_count": 9,
   "metadata": {
    "vscode": {
     "languageId": "plaintext"
    }
   },
   "outputs": [],
   "source": [
    "# update metadata for annadata such that it maps to the correct location\n",
    "adata_all.obs[\"tile_path\"] = adata_all.obs.tile_path.map(\n",
    "    lambda x: x.replace(\"/clusterdata/uqxtan9/Xiao/breast_cancer_9visium\",\n",
    "                        DIR_TILES))"
   ]
  },
  {
   "cell_type": "code",
   "execution_count": 10,
   "metadata": {
    "vscode": {
     "languageId": "plaintext"
    }
   },
   "outputs": [],
   "source": [
    "# ensure change of datapath executed correctly\n",
    "assert 'uqsmac12' in adata_all.obs['tile_path'][0]"
   ]
  },
  {
   "cell_type": "code",
   "execution_count": 11,
   "metadata": {
    "vscode": {
     "languageId": "plaintext"
    }
   },
   "outputs": [],
   "source": [
    "gene_list = [\"COX6C\",\"TTLL12\", \"PABPC1\", \"GNAS\", \"HSP90AB1\", \"TFF3\", \"ATP1A1\", \"B2M\", \"FASN\", \"SPARC\", \"CD74\", \"CD63\", \"CD24\", \"CD81\"]"
   ]
  },
  {
   "cell_type": "code",
   "execution_count": 13,
   "metadata": {
    "scrolled": true,
    "vscode": {
     "languageId": "plaintext"
    }
   },
   "outputs": [
    {
     "data": {
      "text/plain": [
       "1160920F    4783\n",
       "1142243F    4704\n",
       "block2      3770\n",
       "block1      3519\n",
       "FFPE        2338\n",
       "CID4290     2300\n",
       "CID4465     1106\n",
       "CID44971    1046\n",
       "CID4535     1012\n",
       "Name: library_id, dtype: int64"
      ]
     },
     "execution_count": 13,
     "metadata": {},
     "output_type": "execute_result"
    }
   ],
   "source": [
    "adata_all.obs['library_id'].value_counts()"
   ]
  },
  {
   "cell_type": "code",
   "execution_count": 137,
   "metadata": {},
   "outputs": [],
   "source": [
    "df_rna = adata_all.to_df()"
   ]
  },
  {
   "cell_type": "code",
   "execution_count": 138,
   "metadata": {},
   "outputs": [
    {
     "data": {
      "text/plain": [
       "(24578, 14664)"
      ]
     },
     "execution_count": 138,
     "metadata": {},
     "output_type": "execute_result"
    }
   ],
   "source": [
    "df_rna.shape"
   ]
  },
  {
   "cell_type": "code",
   "execution_count": 139,
   "metadata": {},
   "outputs": [],
   "source": [
    "X_counts = df_rna.values"
   ]
  },
  {
   "cell_type": "code",
   "execution_count": 140,
   "metadata": {},
   "outputs": [],
   "source": [
    "library_size = X_counts.sum(axis=1).reshape(-1,1)"
   ]
  },
  {
   "cell_type": "code",
   "execution_count": 141,
   "metadata": {},
   "outputs": [],
   "source": [
    "X_log_cpt = np.log(X_counts * 1e3 / library_size+1)"
   ]
  },
  {
   "cell_type": "code",
   "execution_count": 142,
   "metadata": {},
   "outputs": [
    {
     "data": {
      "text/plain": [
       "Index(['GATAAGGGACGATTAG-1-1142243F', 'TGTTGGCTGGCGGAAG-1-1142243F',\n",
       "       'GCGAGGGACTGCTAGA-1-1142243F', 'GCGCGTTTAAATCGTA-1-1142243F',\n",
       "       'ATCTATCGATGATCAA-1-1142243F', 'CGGTAACAAGATACAT-1-1142243F',\n",
       "       'TCGCCGGAGAGTCTTA-1-1142243F', 'GGAGGAGTGTGTTTAT-1-1142243F',\n",
       "       'TTAGGTGTGACTGGTC-1-1142243F', 'CAGGGCTAACGAAACC-1-1142243F',\n",
       "       ...\n",
       "       'TTGTGCAGCCACGTCA-1-FFPE', 'TTGTGGCCCTGACAGT-1-FFPE',\n",
       "       'TTGTGGTAGGAGGGAT-1-FFPE', 'TTGTGTTTCCCGAAAG-1-FFPE',\n",
       "       'TTGTTAGCAAATTCGA-1-FFPE', 'TTGTTCAGTGTGCTAC-1-FFPE',\n",
       "       'TTGTTGTGTGTCAAGA-1-FFPE', 'TTGTTTCACATCCAGG-1-FFPE',\n",
       "       'TTGTTTCATTAGTCTA-1-FFPE', 'TTGTTTCCATACAACT-1-FFPE'],\n",
       "      dtype='object', length=24578)"
      ]
     },
     "execution_count": 142,
     "metadata": {},
     "output_type": "execute_result"
    }
   ],
   "source": [
    "df_rna.index"
   ]
  },
  {
   "cell_type": "code",
   "execution_count": 143,
   "metadata": {},
   "outputs": [],
   "source": [
    "df_rna = pd.DataFrame(X_log_cpt, columns=df_rna.columns, index=df_rna.index)"
   ]
  },
  {
   "cell_type": "code",
   "execution_count": 144,
   "metadata": {},
   "outputs": [],
   "source": [
    "# select genes of interest\n",
    "df_rna = df_rna[gene_list]"
   ]
  },
  {
   "cell_type": "code",
   "execution_count": 14,
   "metadata": {
    "vscode": {
     "languageId": "plaintext"
    }
   },
   "outputs": [],
   "source": [
    "# X_counts = np.exp(adata_all.to_df().values)"
   ]
  },
  {
   "cell_type": "code",
   "execution_count": 15,
   "metadata": {},
   "outputs": [
    {
     "data": {
      "text/plain": [
       "(24578, 14664)"
      ]
     },
     "execution_count": 15,
     "metadata": {},
     "output_type": "execute_result"
    }
   ],
   "source": [
    "# X_counts.shape"
   ]
  },
  {
   "cell_type": "markdown",
   "metadata": {},
   "source": [
    "## Get class labels"
   ]
  },
  {
   "cell_type": "code",
   "execution_count": 16,
   "metadata": {
    "scrolled": true,
    "vscode": {
     "languageId": "plaintext"
    }
   },
   "outputs": [
    {
     "name": "stdout",
     "output_type": "stream",
     "text": [
      "1142243F\n",
      "Invasive cancer + stroma + lymphocytes    3627\n",
      "Necrosis                                   568\n",
      "Stroma                                     445\n",
      "Artefact                                   119\n",
      "Lymphocytes                                 15\n",
      "TLS                                         10\n",
      "Name: Classification, dtype: int64\n",
      "\n",
      "1160920F\n",
      "Invasive cancer + stroma + lymphocytes      3146\n",
      "Stroma                                      1132\n",
      "Normal glands + lymphocytes                  278\n",
      "Lymphocytes                                  186\n",
      "Adipose tissue                                83\n",
      "Artefact                                      48\n",
      "DCIS                                          12\n",
      "Cancer trapped in lymphocyte aggregation       9\n",
      "Name: Classification, dtype: int64\n",
      "\n",
      "CID4290\n",
      "Invasive cancer + stroma                  2082\n",
      "Invasive cancer + stroma + lymphocytes     215\n",
      "Stroma                                     122\n",
      "Artefact                                     7\n",
      "Name: Classification, dtype: int64\n",
      "\n",
      "CID4535\n",
      "Invasive cancer                                   418\n",
      "Invasive cancer + lymphocytes                     361\n",
      "Stroma                                            169\n",
      "Uncertain                                          73\n",
      "Lymphocytes                                        69\n",
      "Artefact                                           23\n",
      "Adipose tissue                                      8\n",
      "Invasive cancer + adipose tissue + lymphocytes      3\n",
      "Name: Classification, dtype: int64\n",
      "\n",
      "CID44971\n",
      "Invasive cancer + lymphocytes    317\n",
      "DCIS                             273\n",
      "Normal + stroma + lymphocytes    240\n",
      "Stroma                           134\n",
      "Stroma + adipose tissue          114\n",
      "Lymphocytes                       81\n",
      "Artefact                           1\n",
      "Name: Classification, dtype: int64\n",
      "\n",
      "CID4465\n",
      "Invasive cancer + stroma + lymphocytes    1131\n",
      "Stroma                                      73\n",
      "Artefact                                     4\n",
      "Normal duct                                  3\n",
      "Name: Classification, dtype: int64\n",
      "\n"
     ]
    }
   ],
   "source": [
    "dict_meta = {}\n",
    "dict_meta_counts = {}\n",
    "unique_classes = set()\n",
    "list_library = []\n",
    "for fname in os.listdir(DIR_RAW_METADATA):\n",
    "    if fname[0] != '.':\n",
    "        library_id = fname.split('_')[0]\n",
    "        list_library.append(library_id)\n",
    "        dict_meta[library_id] = pd.read_csv(os.path.join(DIR_RAW_METADATA, fname))\n",
    "        dict_meta[library_id]['library'] = library_id\n",
    "        dict_meta_counts[library_id] = dict_meta[library_id]['Classification'].value_counts()\n",
    "        print(library_id)\n",
    "        print(dict_meta[library_id]['Classification'].value_counts())\n",
    "        unique_classes.update(set(dict_meta[library_id]['Classification'].unique()))\n",
    "        print()"
   ]
  },
  {
   "cell_type": "code",
   "execution_count": 17,
   "metadata": {
    "vscode": {
     "languageId": "plaintext"
    }
   },
   "outputs": [],
   "source": [
    "df_meta = pd.DataFrame(dict_meta_counts)\n",
    "df_meta = df_meta.fillna(0)"
   ]
  },
  {
   "cell_type": "code",
   "execution_count": 18,
   "metadata": {},
   "outputs": [
    {
     "data": {
      "text/html": [
       "<div>\n",
       "<style scoped>\n",
       "    .dataframe tbody tr th:only-of-type {\n",
       "        vertical-align: middle;\n",
       "    }\n",
       "\n",
       "    .dataframe tbody tr th {\n",
       "        vertical-align: top;\n",
       "    }\n",
       "\n",
       "    .dataframe thead th {\n",
       "        text-align: right;\n",
       "    }\n",
       "</style>\n",
       "<table border=\"1\" class=\"dataframe\">\n",
       "  <thead>\n",
       "    <tr style=\"text-align: right;\">\n",
       "      <th></th>\n",
       "      <th>1142243F</th>\n",
       "      <th>1160920F</th>\n",
       "      <th>CID4290</th>\n",
       "      <th>CID4535</th>\n",
       "      <th>CID44971</th>\n",
       "      <th>CID4465</th>\n",
       "    </tr>\n",
       "  </thead>\n",
       "  <tbody>\n",
       "    <tr>\n",
       "      <th>Adipose tissue</th>\n",
       "      <td>0.0</td>\n",
       "      <td>83.0</td>\n",
       "      <td>0.0</td>\n",
       "      <td>8.0</td>\n",
       "      <td>0.0</td>\n",
       "      <td>0.0</td>\n",
       "    </tr>\n",
       "    <tr>\n",
       "      <th>Artefact</th>\n",
       "      <td>119.0</td>\n",
       "      <td>48.0</td>\n",
       "      <td>7.0</td>\n",
       "      <td>23.0</td>\n",
       "      <td>1.0</td>\n",
       "      <td>4.0</td>\n",
       "    </tr>\n",
       "    <tr>\n",
       "      <th>Cancer trapped in lymphocyte aggregation</th>\n",
       "      <td>0.0</td>\n",
       "      <td>9.0</td>\n",
       "      <td>0.0</td>\n",
       "      <td>0.0</td>\n",
       "      <td>0.0</td>\n",
       "      <td>0.0</td>\n",
       "    </tr>\n",
       "    <tr>\n",
       "      <th>DCIS</th>\n",
       "      <td>0.0</td>\n",
       "      <td>12.0</td>\n",
       "      <td>0.0</td>\n",
       "      <td>0.0</td>\n",
       "      <td>273.0</td>\n",
       "      <td>0.0</td>\n",
       "    </tr>\n",
       "    <tr>\n",
       "      <th>Invasive cancer</th>\n",
       "      <td>0.0</td>\n",
       "      <td>0.0</td>\n",
       "      <td>0.0</td>\n",
       "      <td>418.0</td>\n",
       "      <td>0.0</td>\n",
       "      <td>0.0</td>\n",
       "    </tr>\n",
       "    <tr>\n",
       "      <th>Invasive cancer + adipose tissue + lymphocytes</th>\n",
       "      <td>0.0</td>\n",
       "      <td>0.0</td>\n",
       "      <td>0.0</td>\n",
       "      <td>3.0</td>\n",
       "      <td>0.0</td>\n",
       "      <td>0.0</td>\n",
       "    </tr>\n",
       "    <tr>\n",
       "      <th>Invasive cancer + lymphocytes</th>\n",
       "      <td>0.0</td>\n",
       "      <td>0.0</td>\n",
       "      <td>0.0</td>\n",
       "      <td>361.0</td>\n",
       "      <td>317.0</td>\n",
       "      <td>0.0</td>\n",
       "    </tr>\n",
       "    <tr>\n",
       "      <th>Invasive cancer + stroma</th>\n",
       "      <td>0.0</td>\n",
       "      <td>0.0</td>\n",
       "      <td>2082.0</td>\n",
       "      <td>0.0</td>\n",
       "      <td>0.0</td>\n",
       "      <td>0.0</td>\n",
       "    </tr>\n",
       "    <tr>\n",
       "      <th>Invasive cancer + stroma + lymphocytes</th>\n",
       "      <td>3627.0</td>\n",
       "      <td>3146.0</td>\n",
       "      <td>215.0</td>\n",
       "      <td>0.0</td>\n",
       "      <td>0.0</td>\n",
       "      <td>1131.0</td>\n",
       "    </tr>\n",
       "    <tr>\n",
       "      <th>Lymphocytes</th>\n",
       "      <td>15.0</td>\n",
       "      <td>186.0</td>\n",
       "      <td>0.0</td>\n",
       "      <td>69.0</td>\n",
       "      <td>81.0</td>\n",
       "      <td>0.0</td>\n",
       "    </tr>\n",
       "    <tr>\n",
       "      <th>Necrosis</th>\n",
       "      <td>568.0</td>\n",
       "      <td>0.0</td>\n",
       "      <td>0.0</td>\n",
       "      <td>0.0</td>\n",
       "      <td>0.0</td>\n",
       "      <td>0.0</td>\n",
       "    </tr>\n",
       "    <tr>\n",
       "      <th>Normal + stroma + lymphocytes</th>\n",
       "      <td>0.0</td>\n",
       "      <td>0.0</td>\n",
       "      <td>0.0</td>\n",
       "      <td>0.0</td>\n",
       "      <td>240.0</td>\n",
       "      <td>0.0</td>\n",
       "    </tr>\n",
       "    <tr>\n",
       "      <th>Normal duct</th>\n",
       "      <td>0.0</td>\n",
       "      <td>0.0</td>\n",
       "      <td>0.0</td>\n",
       "      <td>0.0</td>\n",
       "      <td>0.0</td>\n",
       "      <td>3.0</td>\n",
       "    </tr>\n",
       "    <tr>\n",
       "      <th>Normal glands + lymphocytes</th>\n",
       "      <td>0.0</td>\n",
       "      <td>278.0</td>\n",
       "      <td>0.0</td>\n",
       "      <td>0.0</td>\n",
       "      <td>0.0</td>\n",
       "      <td>0.0</td>\n",
       "    </tr>\n",
       "    <tr>\n",
       "      <th>Stroma</th>\n",
       "      <td>445.0</td>\n",
       "      <td>1132.0</td>\n",
       "      <td>122.0</td>\n",
       "      <td>169.0</td>\n",
       "      <td>134.0</td>\n",
       "      <td>73.0</td>\n",
       "    </tr>\n",
       "    <tr>\n",
       "      <th>Stroma + adipose tissue</th>\n",
       "      <td>0.0</td>\n",
       "      <td>0.0</td>\n",
       "      <td>0.0</td>\n",
       "      <td>0.0</td>\n",
       "      <td>114.0</td>\n",
       "      <td>0.0</td>\n",
       "    </tr>\n",
       "    <tr>\n",
       "      <th>TLS</th>\n",
       "      <td>10.0</td>\n",
       "      <td>0.0</td>\n",
       "      <td>0.0</td>\n",
       "      <td>0.0</td>\n",
       "      <td>0.0</td>\n",
       "      <td>0.0</td>\n",
       "    </tr>\n",
       "    <tr>\n",
       "      <th>Uncertain</th>\n",
       "      <td>0.0</td>\n",
       "      <td>0.0</td>\n",
       "      <td>0.0</td>\n",
       "      <td>73.0</td>\n",
       "      <td>0.0</td>\n",
       "      <td>0.0</td>\n",
       "    </tr>\n",
       "  </tbody>\n",
       "</table>\n",
       "</div>"
      ],
      "text/plain": [
       "                                                1142243F  1160920F  CID4290  \\\n",
       "Adipose tissue                                       0.0      83.0      0.0   \n",
       "Artefact                                           119.0      48.0      7.0   \n",
       "Cancer trapped in lymphocyte aggregation             0.0       9.0      0.0   \n",
       "DCIS                                                 0.0      12.0      0.0   \n",
       "Invasive cancer                                      0.0       0.0      0.0   \n",
       "Invasive cancer + adipose tissue + lymphocytes       0.0       0.0      0.0   \n",
       "Invasive cancer + lymphocytes                        0.0       0.0      0.0   \n",
       "Invasive cancer + stroma                             0.0       0.0   2082.0   \n",
       "Invasive cancer + stroma + lymphocytes            3627.0    3146.0    215.0   \n",
       "Lymphocytes                                         15.0     186.0      0.0   \n",
       "Necrosis                                           568.0       0.0      0.0   \n",
       "Normal + stroma + lymphocytes                        0.0       0.0      0.0   \n",
       "Normal duct                                          0.0       0.0      0.0   \n",
       "Normal glands + lymphocytes                          0.0     278.0      0.0   \n",
       "Stroma                                             445.0    1132.0    122.0   \n",
       "Stroma + adipose tissue                              0.0       0.0      0.0   \n",
       "TLS                                                 10.0       0.0      0.0   \n",
       "Uncertain                                            0.0       0.0      0.0   \n",
       "\n",
       "                                                CID4535  CID44971  CID4465  \n",
       "Adipose tissue                                      8.0       0.0      0.0  \n",
       "Artefact                                           23.0       1.0      4.0  \n",
       "Cancer trapped in lymphocyte aggregation            0.0       0.0      0.0  \n",
       "DCIS                                                0.0     273.0      0.0  \n",
       "Invasive cancer                                   418.0       0.0      0.0  \n",
       "Invasive cancer + adipose tissue + lymphocytes      3.0       0.0      0.0  \n",
       "Invasive cancer + lymphocytes                     361.0     317.0      0.0  \n",
       "Invasive cancer + stroma                            0.0       0.0      0.0  \n",
       "Invasive cancer + stroma + lymphocytes              0.0       0.0   1131.0  \n",
       "Lymphocytes                                        69.0      81.0      0.0  \n",
       "Necrosis                                            0.0       0.0      0.0  \n",
       "Normal + stroma + lymphocytes                       0.0     240.0      0.0  \n",
       "Normal duct                                         0.0       0.0      3.0  \n",
       "Normal glands + lymphocytes                         0.0       0.0      0.0  \n",
       "Stroma                                            169.0     134.0     73.0  \n",
       "Stroma + adipose tissue                             0.0     114.0      0.0  \n",
       "TLS                                                 0.0       0.0      0.0  \n",
       "Uncertain                                          73.0       0.0      0.0  "
      ]
     },
     "execution_count": 18,
     "metadata": {},
     "output_type": "execute_result"
    }
   ],
   "source": [
    "df_meta"
   ]
  },
  {
   "cell_type": "code",
   "execution_count": 20,
   "metadata": {},
   "outputs": [],
   "source": [
    "mapper_celltype_to_binary = { \"Artefact\": 0, \"Lymphocytes\": 0, \"Stroma\": 0, \"DCIS\": 0, \"Invasive cancer + lymphocytes\": 1, \"Normal + stroma + lymphocytes\": 0, \"Stroma + adipose tissue\": 0,\n",
    "    \"Invasive cancer + stroma + lymphocytes\": 1, \"Normal duct\": 0, \"Adipose tissue\": 0, \"Invasive cancer\": 1, \"Invasive cancer + adipose + lymphocytes\": 1, \"Uncertain\": 0,\n",
    "    \"Invasive cancer + stroma\": 1, \"Cancer trapped in lymphocyte aggregation\": 1, \"Normal glands + lymphocytes\": 0, \"Necrosis\": 0, \"TLS\": 0}"
   ]
  },
  {
   "cell_type": "code",
   "execution_count": 21,
   "metadata": {},
   "outputs": [],
   "source": [
    "dict_meta[library_id]['cancer_class'] = dict_meta[library_id]['Classification'].map(mapper_celltype_to_binary)"
   ]
  },
  {
   "cell_type": "code",
   "execution_count": 22,
   "metadata": {},
   "outputs": [
    {
     "data": {
      "text/plain": [
       "1    1131\n",
       "0      80\n",
       "Name: cancer_class, dtype: int64"
      ]
     },
     "execution_count": 22,
     "metadata": {},
     "output_type": "execute_result"
    }
   ],
   "source": [
    "dict_meta[library_id]['cancer_class'].value_counts()"
   ]
  },
  {
   "cell_type": "code",
   "execution_count": 23,
   "metadata": {
    "scrolled": false
   },
   "outputs": [
    {
     "name": "stdout",
     "output_type": "stream",
     "text": [
      "1142243F\n",
      "1    3627\n",
      "0    1157\n",
      "Name: cancer_class, dtype: int64\n",
      "0\n",
      "\n",
      "1160920F\n",
      "1.0    3155\n",
      "0.0    1740\n",
      "Name: cancer_class, dtype: int64\n",
      "0\n",
      "\n",
      "CID4290\n",
      "1.0    2297\n",
      "0.0     135\n",
      "Name: cancer_class, dtype: int64\n",
      "0\n",
      "\n",
      "CID4535\n",
      "1.0    779\n",
      "0.0    348\n",
      "Name: cancer_class, dtype: int64\n",
      "0\n",
      "\n",
      "CID44971\n",
      "0.0    845\n",
      "1.0    317\n",
      "Name: cancer_class, dtype: int64\n",
      "0\n",
      "\n",
      "CID4465\n",
      "1    1131\n",
      "0      80\n",
      "Name: cancer_class, dtype: int64\n",
      "0\n",
      "\n"
     ]
    }
   ],
   "source": [
    "for library_id in dict_meta.keys():\n",
    "    # Map to binary classification. \n",
    "    dict_meta[library_id]['cancer_class'] = dict_meta[library_id]['Classification'].map(mapper_celltype_to_binary)\n",
    "    # Fill NA. \n",
    "    dict_meta[library_id]['cancer_class'] = dict_meta[library_id]['cancer_class'].fillna(0)\n",
    "    print(library_id)\n",
    "    print(dict_meta[library_id]['cancer_class'].value_counts())\n",
    "    print(dict_meta[library_id]['cancer_class'].isna().sum())\n",
    "    print()"
   ]
  },
  {
   "cell_type": "code",
   "execution_count": 24,
   "metadata": {},
   "outputs": [],
   "source": [
    "# create index for the labels\n",
    "for library_id in dict_meta.keys():\n",
    "    dict_meta[library_id].index = dict_meta[library_id]['Unnamed: 0'] + '-' + library_id"
   ]
  },
  {
   "cell_type": "code",
   "execution_count": 27,
   "metadata": {},
   "outputs": [],
   "source": [
    "df_meta = pd.concat(list(dict_meta.values()), axis=0)"
   ]
  },
  {
   "cell_type": "code",
   "execution_count": 28,
   "metadata": {},
   "outputs": [
    {
     "data": {
      "text/html": [
       "<div>\n",
       "<style scoped>\n",
       "    .dataframe tbody tr th:only-of-type {\n",
       "        vertical-align: middle;\n",
       "    }\n",
       "\n",
       "    .dataframe tbody tr th {\n",
       "        vertical-align: top;\n",
       "    }\n",
       "\n",
       "    .dataframe thead th {\n",
       "        text-align: right;\n",
       "    }\n",
       "</style>\n",
       "<table border=\"1\" class=\"dataframe\">\n",
       "  <thead>\n",
       "    <tr style=\"text-align: right;\">\n",
       "      <th></th>\n",
       "      <th>Unnamed: 0</th>\n",
       "      <th>nCount_RNA</th>\n",
       "      <th>nFeature_RNA</th>\n",
       "      <th>patientid</th>\n",
       "      <th>subtype</th>\n",
       "      <th>Classification</th>\n",
       "      <th>library</th>\n",
       "      <th>cancer_class</th>\n",
       "    </tr>\n",
       "    <tr>\n",
       "      <th>Unnamed: 0</th>\n",
       "      <th></th>\n",
       "      <th></th>\n",
       "      <th></th>\n",
       "      <th></th>\n",
       "      <th></th>\n",
       "      <th></th>\n",
       "      <th></th>\n",
       "      <th></th>\n",
       "    </tr>\n",
       "  </thead>\n",
       "  <tbody>\n",
       "    <tr>\n",
       "      <th>TACCGATCCAACACTT-1-1142243F</th>\n",
       "      <td>TACCGATCCAACACTT-1</td>\n",
       "      <td>4073</td>\n",
       "      <td>2071</td>\n",
       "      <td>1142243F</td>\n",
       "      <td>TNBC</td>\n",
       "      <td>Artefact</td>\n",
       "      <td>1142243F</td>\n",
       "      <td>0.0</td>\n",
       "    </tr>\n",
       "    <tr>\n",
       "      <th>GATAAGGGACGATTAG-1-1142243F</th>\n",
       "      <td>GATAAGGGACGATTAG-1</td>\n",
       "      <td>4628</td>\n",
       "      <td>2320</td>\n",
       "      <td>1142243F</td>\n",
       "      <td>TNBC</td>\n",
       "      <td>Artefact</td>\n",
       "      <td>1142243F</td>\n",
       "      <td>0.0</td>\n",
       "    </tr>\n",
       "    <tr>\n",
       "      <th>TGTTGGCTGGCGGAAG-1-1142243F</th>\n",
       "      <td>TGTTGGCTGGCGGAAG-1</td>\n",
       "      <td>5116</td>\n",
       "      <td>2494</td>\n",
       "      <td>1142243F</td>\n",
       "      <td>TNBC</td>\n",
       "      <td>Artefact</td>\n",
       "      <td>1142243F</td>\n",
       "      <td>0.0</td>\n",
       "    </tr>\n",
       "    <tr>\n",
       "      <th>GCGAGGGACTGCTAGA-1-1142243F</th>\n",
       "      <td>GCGAGGGACTGCTAGA-1</td>\n",
       "      <td>8170</td>\n",
       "      <td>3464</td>\n",
       "      <td>1142243F</td>\n",
       "      <td>TNBC</td>\n",
       "      <td>Artefact</td>\n",
       "      <td>1142243F</td>\n",
       "      <td>0.0</td>\n",
       "    </tr>\n",
       "    <tr>\n",
       "      <th>GCGCGTTTAAATCGTA-1-1142243F</th>\n",
       "      <td>GCGCGTTTAAATCGTA-1</td>\n",
       "      <td>7534</td>\n",
       "      <td>3345</td>\n",
       "      <td>1142243F</td>\n",
       "      <td>TNBC</td>\n",
       "      <td>Artefact</td>\n",
       "      <td>1142243F</td>\n",
       "      <td>0.0</td>\n",
       "    </tr>\n",
       "  </tbody>\n",
       "</table>\n",
       "</div>"
      ],
      "text/plain": [
       "                                     Unnamed: 0  nCount_RNA  nFeature_RNA  \\\n",
       "Unnamed: 0                                                                  \n",
       "TACCGATCCAACACTT-1-1142243F  TACCGATCCAACACTT-1        4073          2071   \n",
       "GATAAGGGACGATTAG-1-1142243F  GATAAGGGACGATTAG-1        4628          2320   \n",
       "TGTTGGCTGGCGGAAG-1-1142243F  TGTTGGCTGGCGGAAG-1        5116          2494   \n",
       "GCGAGGGACTGCTAGA-1-1142243F  GCGAGGGACTGCTAGA-1        8170          3464   \n",
       "GCGCGTTTAAATCGTA-1-1142243F  GCGCGTTTAAATCGTA-1        7534          3345   \n",
       "\n",
       "                            patientid subtype Classification   library  \\\n",
       "Unnamed: 0                                                               \n",
       "TACCGATCCAACACTT-1-1142243F  1142243F    TNBC       Artefact  1142243F   \n",
       "GATAAGGGACGATTAG-1-1142243F  1142243F    TNBC       Artefact  1142243F   \n",
       "TGTTGGCTGGCGGAAG-1-1142243F  1142243F    TNBC       Artefact  1142243F   \n",
       "GCGAGGGACTGCTAGA-1-1142243F  1142243F    TNBC       Artefact  1142243F   \n",
       "GCGCGTTTAAATCGTA-1-1142243F  1142243F    TNBC       Artefact  1142243F   \n",
       "\n",
       "                             cancer_class  \n",
       "Unnamed: 0                                 \n",
       "TACCGATCCAACACTT-1-1142243F           0.0  \n",
       "GATAAGGGACGATTAG-1-1142243F           0.0  \n",
       "TGTTGGCTGGCGGAAG-1-1142243F           0.0  \n",
       "GCGAGGGACTGCTAGA-1-1142243F           0.0  \n",
       "GCGCGTTTAAATCGTA-1-1142243F           0.0  "
      ]
     },
     "execution_count": 28,
     "metadata": {},
     "output_type": "execute_result"
    }
   ],
   "source": [
    "df_meta.head()"
   ]
  },
  {
   "cell_type": "code",
   "execution_count": 154,
   "metadata": {},
   "outputs": [],
   "source": [
    "df_adata = adata_all.obs.copy()"
   ]
  },
  {
   "cell_type": "code",
   "execution_count": 155,
   "metadata": {},
   "outputs": [],
   "source": [
    "# merge data\n",
    "df_adata = df_adata.merge(df_meta, how='left', left_index=True, right_index=True)"
   ]
  },
  {
   "cell_type": "code",
   "execution_count": 156,
   "metadata": {},
   "outputs": [],
   "source": [
    "# drop instances not in the tissue\n",
    "df_adata = df_adata[df_adata['in_tissue'] == 1]"
   ]
  },
  {
   "cell_type": "markdown",
   "metadata": {},
   "source": [
    "## Image and RNA dataframe"
   ]
  },
  {
   "cell_type": "code",
   "execution_count": 157,
   "metadata": {},
   "outputs": [],
   "source": [
    "df_adata = df_adata.merge(df_rna, how='left', left_index=True, right_index=True)"
   ]
  },
  {
   "cell_type": "code",
   "execution_count": 158,
   "metadata": {},
   "outputs": [
    {
     "data": {
      "text/html": [
       "<div>\n",
       "<style scoped>\n",
       "    .dataframe tbody tr th:only-of-type {\n",
       "        vertical-align: middle;\n",
       "    }\n",
       "\n",
       "    .dataframe tbody tr th {\n",
       "        vertical-align: top;\n",
       "    }\n",
       "\n",
       "    .dataframe thead th {\n",
       "        text-align: right;\n",
       "    }\n",
       "</style>\n",
       "<table border=\"1\" class=\"dataframe\">\n",
       "  <thead>\n",
       "    <tr style=\"text-align: right;\">\n",
       "      <th></th>\n",
       "      <th>in_tissue</th>\n",
       "      <th>array_row</th>\n",
       "      <th>array_col</th>\n",
       "      <th>imagecol</th>\n",
       "      <th>imagerow</th>\n",
       "      <th>tile_tissue_mask_path</th>\n",
       "      <th>tissue_area</th>\n",
       "      <th>tile_path</th>\n",
       "      <th>library_id</th>\n",
       "      <th>Unnamed: 0</th>\n",
       "      <th>...</th>\n",
       "      <th>HSP90AB1</th>\n",
       "      <th>TFF3</th>\n",
       "      <th>ATP1A1</th>\n",
       "      <th>B2M</th>\n",
       "      <th>FASN</th>\n",
       "      <th>SPARC</th>\n",
       "      <th>CD74</th>\n",
       "      <th>CD63</th>\n",
       "      <th>CD24</th>\n",
       "      <th>CD81</th>\n",
       "    </tr>\n",
       "  </thead>\n",
       "  <tbody>\n",
       "    <tr>\n",
       "      <th>GATAAGGGACGATTAG-1-1142243F</th>\n",
       "      <td>1</td>\n",
       "      <td>1</td>\n",
       "      <td>3</td>\n",
       "      <td>12601</td>\n",
       "      <td>4511</td>\n",
       "      <td>/tmp/1142243F_tissue_mask/1142243F-12601-4511-...</td>\n",
       "      <td>0.733437</td>\n",
       "      <td>/scratch/smp/uqsmac12/dataset_breast_cancer_9v...</td>\n",
       "      <td>1142243F</td>\n",
       "      <td>GATAAGGGACGATTAG-1</td>\n",
       "      <td>...</td>\n",
       "      <td>0.806845</td>\n",
       "      <td>0.0</td>\n",
       "      <td>0.602795</td>\n",
       "      <td>0.837728</td>\n",
       "      <td>0.000000</td>\n",
       "      <td>0.504136</td>\n",
       "      <td>0.602795</td>\n",
       "      <td>0.602795</td>\n",
       "      <td>0.909376</td>\n",
       "      <td>0.346146</td>\n",
       "    </tr>\n",
       "    <tr>\n",
       "      <th>TGTTGGCTGGCGGAAG-1-1142243F</th>\n",
       "      <td>1</td>\n",
       "      <td>1</td>\n",
       "      <td>5</td>\n",
       "      <td>12872</td>\n",
       "      <td>4512</td>\n",
       "      <td>/tmp/1142243F_tissue_mask/1142243F-12872-4512-...</td>\n",
       "      <td>0.878391</td>\n",
       "      <td>/scratch/smp/uqsmac12/dataset_breast_cancer_9v...</td>\n",
       "      <td>1142243F</td>\n",
       "      <td>TGTTGGCTGGCGGAAG-1</td>\n",
       "      <td>...</td>\n",
       "      <td>0.722235</td>\n",
       "      <td>0.0</td>\n",
       "      <td>0.562166</td>\n",
       "      <td>0.722235</td>\n",
       "      <td>0.000000</td>\n",
       "      <td>0.629094</td>\n",
       "      <td>0.722235</td>\n",
       "      <td>0.680637</td>\n",
       "      <td>0.468691</td>\n",
       "      <td>0.629094</td>\n",
       "    </tr>\n",
       "    <tr>\n",
       "      <th>GCGAGGGACTGCTAGA-1-1142243F</th>\n",
       "      <td>1</td>\n",
       "      <td>1</td>\n",
       "      <td>7</td>\n",
       "      <td>13144</td>\n",
       "      <td>4513</td>\n",
       "      <td>/tmp/1142243F_tissue_mask/1142243F-13144-4513-...</td>\n",
       "      <td>0.884632</td>\n",
       "      <td>/scratch/smp/uqsmac12/dataset_breast_cancer_9v...</td>\n",
       "      <td>1142243F</td>\n",
       "      <td>GCGAGGGACTGCTAGA-1</td>\n",
       "      <td>...</td>\n",
       "      <td>0.623886</td>\n",
       "      <td>0.0</td>\n",
       "      <td>0.405969</td>\n",
       "      <td>0.623886</td>\n",
       "      <td>0.223446</td>\n",
       "      <td>0.640588</td>\n",
       "      <td>0.640588</td>\n",
       "      <td>0.499088</td>\n",
       "      <td>0.584269</td>\n",
       "      <td>0.405969</td>\n",
       "    </tr>\n",
       "    <tr>\n",
       "      <th>GCGCGTTTAAATCGTA-1-1142243F</th>\n",
       "      <td>1</td>\n",
       "      <td>1</td>\n",
       "      <td>9</td>\n",
       "      <td>13416</td>\n",
       "      <td>4514</td>\n",
       "      <td>/tmp/1142243F_tissue_mask/1142243F-13416-4514-...</td>\n",
       "      <td>0.813425</td>\n",
       "      <td>/scratch/smp/uqsmac12/dataset_breast_cancer_9v...</td>\n",
       "      <td>1142243F</td>\n",
       "      <td>GCGCGTTTAAATCGTA-1</td>\n",
       "      <td>...</td>\n",
       "      <td>0.584348</td>\n",
       "      <td>0.0</td>\n",
       "      <td>0.478962</td>\n",
       "      <td>0.696867</td>\n",
       "      <td>0.350229</td>\n",
       "      <td>0.667114</td>\n",
       "      <td>0.555519</td>\n",
       "      <td>0.478962</td>\n",
       "      <td>0.696867</td>\n",
       "      <td>0.555519</td>\n",
       "    </tr>\n",
       "    <tr>\n",
       "      <th>ATCTATCGATGATCAA-1-1142243F</th>\n",
       "      <td>1</td>\n",
       "      <td>3</td>\n",
       "      <td>3</td>\n",
       "      <td>12599</td>\n",
       "      <td>4984</td>\n",
       "      <td>/tmp/1142243F_tissue_mask/1142243F-12599-4984-...</td>\n",
       "      <td>0.879218</td>\n",
       "      <td>/scratch/smp/uqsmac12/dataset_breast_cancer_9v...</td>\n",
       "      <td>1142243F</td>\n",
       "      <td>ATCTATCGATGATCAA-1</td>\n",
       "      <td>...</td>\n",
       "      <td>0.668963</td>\n",
       "      <td>0.0</td>\n",
       "      <td>0.252037</td>\n",
       "      <td>0.883805</td>\n",
       "      <td>0.252037</td>\n",
       "      <td>0.688951</td>\n",
       "      <td>0.554439</td>\n",
       "      <td>0.554439</td>\n",
       "      <td>0.688951</td>\n",
       "      <td>0.620540</td>\n",
       "    </tr>\n",
       "  </tbody>\n",
       "</table>\n",
       "<p>5 rows × 31 columns</p>\n",
       "</div>"
      ],
      "text/plain": [
       "                             in_tissue  array_row  array_col  imagecol  \\\n",
       "GATAAGGGACGATTAG-1-1142243F          1          1          3     12601   \n",
       "TGTTGGCTGGCGGAAG-1-1142243F          1          1          5     12872   \n",
       "GCGAGGGACTGCTAGA-1-1142243F          1          1          7     13144   \n",
       "GCGCGTTTAAATCGTA-1-1142243F          1          1          9     13416   \n",
       "ATCTATCGATGATCAA-1-1142243F          1          3          3     12599   \n",
       "\n",
       "                             imagerow  \\\n",
       "GATAAGGGACGATTAG-1-1142243F      4511   \n",
       "TGTTGGCTGGCGGAAG-1-1142243F      4512   \n",
       "GCGAGGGACTGCTAGA-1-1142243F      4513   \n",
       "GCGCGTTTAAATCGTA-1-1142243F      4514   \n",
       "ATCTATCGATGATCAA-1-1142243F      4984   \n",
       "\n",
       "                                                         tile_tissue_mask_path  \\\n",
       "GATAAGGGACGATTAG-1-1142243F  /tmp/1142243F_tissue_mask/1142243F-12601-4511-...   \n",
       "TGTTGGCTGGCGGAAG-1-1142243F  /tmp/1142243F_tissue_mask/1142243F-12872-4512-...   \n",
       "GCGAGGGACTGCTAGA-1-1142243F  /tmp/1142243F_tissue_mask/1142243F-13144-4513-...   \n",
       "GCGCGTTTAAATCGTA-1-1142243F  /tmp/1142243F_tissue_mask/1142243F-13416-4514-...   \n",
       "ATCTATCGATGATCAA-1-1142243F  /tmp/1142243F_tissue_mask/1142243F-12599-4984-...   \n",
       "\n",
       "                             tissue_area  \\\n",
       "GATAAGGGACGATTAG-1-1142243F     0.733437   \n",
       "TGTTGGCTGGCGGAAG-1-1142243F     0.878391   \n",
       "GCGAGGGACTGCTAGA-1-1142243F     0.884632   \n",
       "GCGCGTTTAAATCGTA-1-1142243F     0.813425   \n",
       "ATCTATCGATGATCAA-1-1142243F     0.879218   \n",
       "\n",
       "                                                                     tile_path  \\\n",
       "GATAAGGGACGATTAG-1-1142243F  /scratch/smp/uqsmac12/dataset_breast_cancer_9v...   \n",
       "TGTTGGCTGGCGGAAG-1-1142243F  /scratch/smp/uqsmac12/dataset_breast_cancer_9v...   \n",
       "GCGAGGGACTGCTAGA-1-1142243F  /scratch/smp/uqsmac12/dataset_breast_cancer_9v...   \n",
       "GCGCGTTTAAATCGTA-1-1142243F  /scratch/smp/uqsmac12/dataset_breast_cancer_9v...   \n",
       "ATCTATCGATGATCAA-1-1142243F  /scratch/smp/uqsmac12/dataset_breast_cancer_9v...   \n",
       "\n",
       "                            library_id          Unnamed: 0  ...  HSP90AB1  \\\n",
       "GATAAGGGACGATTAG-1-1142243F   1142243F  GATAAGGGACGATTAG-1  ...  0.806845   \n",
       "TGTTGGCTGGCGGAAG-1-1142243F   1142243F  TGTTGGCTGGCGGAAG-1  ...  0.722235   \n",
       "GCGAGGGACTGCTAGA-1-1142243F   1142243F  GCGAGGGACTGCTAGA-1  ...  0.623886   \n",
       "GCGCGTTTAAATCGTA-1-1142243F   1142243F  GCGCGTTTAAATCGTA-1  ...  0.584348   \n",
       "ATCTATCGATGATCAA-1-1142243F   1142243F  ATCTATCGATGATCAA-1  ...  0.668963   \n",
       "\n",
       "                             TFF3    ATP1A1       B2M      FASN     SPARC  \\\n",
       "GATAAGGGACGATTAG-1-1142243F   0.0  0.602795  0.837728  0.000000  0.504136   \n",
       "TGTTGGCTGGCGGAAG-1-1142243F   0.0  0.562166  0.722235  0.000000  0.629094   \n",
       "GCGAGGGACTGCTAGA-1-1142243F   0.0  0.405969  0.623886  0.223446  0.640588   \n",
       "GCGCGTTTAAATCGTA-1-1142243F   0.0  0.478962  0.696867  0.350229  0.667114   \n",
       "ATCTATCGATGATCAA-1-1142243F   0.0  0.252037  0.883805  0.252037  0.688951   \n",
       "\n",
       "                                 CD74      CD63      CD24      CD81  \n",
       "GATAAGGGACGATTAG-1-1142243F  0.602795  0.602795  0.909376  0.346146  \n",
       "TGTTGGCTGGCGGAAG-1-1142243F  0.722235  0.680637  0.468691  0.629094  \n",
       "GCGAGGGACTGCTAGA-1-1142243F  0.640588  0.499088  0.584269  0.405969  \n",
       "GCGCGTTTAAATCGTA-1-1142243F  0.555519  0.478962  0.696867  0.555519  \n",
       "ATCTATCGATGATCAA-1-1142243F  0.554439  0.554439  0.688951  0.620540  \n",
       "\n",
       "[5 rows x 31 columns]"
      ]
     },
     "execution_count": 158,
     "metadata": {},
     "output_type": "execute_result"
    }
   ],
   "source": [
    "df_adata.head()"
   ]
  },
  {
   "cell_type": "code",
   "execution_count": 159,
   "metadata": {
    "scrolled": true
   },
   "outputs": [
    {
     "data": {
      "text/html": [
       "<div>\n",
       "<style scoped>\n",
       "    .dataframe tbody tr th:only-of-type {\n",
       "        vertical-align: middle;\n",
       "    }\n",
       "\n",
       "    .dataframe tbody tr th {\n",
       "        vertical-align: top;\n",
       "    }\n",
       "\n",
       "    .dataframe thead th {\n",
       "        text-align: right;\n",
       "    }\n",
       "</style>\n",
       "<table border=\"1\" class=\"dataframe\">\n",
       "  <thead>\n",
       "    <tr style=\"text-align: right;\">\n",
       "      <th></th>\n",
       "      <th>min</th>\n",
       "      <th>median</th>\n",
       "      <th>max</th>\n",
       "      <th>mean</th>\n",
       "    </tr>\n",
       "    <tr>\n",
       "      <th>library_id</th>\n",
       "      <th></th>\n",
       "      <th></th>\n",
       "      <th></th>\n",
       "      <th></th>\n",
       "    </tr>\n",
       "  </thead>\n",
       "  <tbody>\n",
       "    <tr>\n",
       "      <th>1142243F</th>\n",
       "      <td>0.0</td>\n",
       "      <td>0.526123</td>\n",
       "      <td>1.881856</td>\n",
       "      <td>0.509522</td>\n",
       "    </tr>\n",
       "    <tr>\n",
       "      <th>1160920F</th>\n",
       "      <td>0.0</td>\n",
       "      <td>0.517391</td>\n",
       "      <td>1.860068</td>\n",
       "      <td>0.535184</td>\n",
       "    </tr>\n",
       "    <tr>\n",
       "      <th>CID4290</th>\n",
       "      <td>0.0</td>\n",
       "      <td>0.420986</td>\n",
       "      <td>1.745939</td>\n",
       "      <td>0.424370</td>\n",
       "    </tr>\n",
       "    <tr>\n",
       "      <th>CID4465</th>\n",
       "      <td>0.0</td>\n",
       "      <td>0.416416</td>\n",
       "      <td>1.479316</td>\n",
       "      <td>0.421191</td>\n",
       "    </tr>\n",
       "    <tr>\n",
       "      <th>CID44971</th>\n",
       "      <td>0.0</td>\n",
       "      <td>0.397487</td>\n",
       "      <td>1.311405</td>\n",
       "      <td>0.404954</td>\n",
       "    </tr>\n",
       "    <tr>\n",
       "      <th>CID4535</th>\n",
       "      <td>0.0</td>\n",
       "      <td>0.354996</td>\n",
       "      <td>1.280810</td>\n",
       "      <td>0.353529</td>\n",
       "    </tr>\n",
       "    <tr>\n",
       "      <th>block1</th>\n",
       "      <td>0.0</td>\n",
       "      <td>0.371561</td>\n",
       "      <td>1.294898</td>\n",
       "      <td>0.401335</td>\n",
       "    </tr>\n",
       "    <tr>\n",
       "      <th>block2</th>\n",
       "      <td>0.0</td>\n",
       "      <td>0.383846</td>\n",
       "      <td>1.364818</td>\n",
       "      <td>0.407764</td>\n",
       "    </tr>\n",
       "    <tr>\n",
       "      <th>FFPE</th>\n",
       "      <td>0.0</td>\n",
       "      <td>0.395886</td>\n",
       "      <td>1.110433</td>\n",
       "      <td>0.414325</td>\n",
       "    </tr>\n",
       "  </tbody>\n",
       "</table>\n",
       "</div>"
      ],
      "text/plain": [
       "            min    median       max      mean\n",
       "library_id                                   \n",
       "1142243F    0.0  0.526123  1.881856  0.509522\n",
       "1160920F    0.0  0.517391  1.860068  0.535184\n",
       "CID4290     0.0  0.420986  1.745939  0.424370\n",
       "CID4465     0.0  0.416416  1.479316  0.421191\n",
       "CID44971    0.0  0.397487  1.311405  0.404954\n",
       "CID4535     0.0  0.354996  1.280810  0.353529\n",
       "block1      0.0  0.371561  1.294898  0.401335\n",
       "block2      0.0  0.383846  1.364818  0.407764\n",
       "FFPE        0.0  0.395886  1.110433  0.414325"
      ]
     },
     "execution_count": 159,
     "metadata": {},
     "output_type": "execute_result"
    }
   ],
   "source": [
    "df_adata.groupby('library_id')[g].agg(func=['min', 'median', 'max', 'mean'])"
   ]
  },
  {
   "cell_type": "code",
   "execution_count": 160,
   "metadata": {},
   "outputs": [],
   "source": [
    "library_ids = df_adata['library_id'].unique()"
   ]
  },
  {
   "cell_type": "code",
   "execution_count": null,
   "metadata": {},
   "outputs": [],
   "source": [
    "# fig, ax = plt.subplots(len(library_ids), len(gene_list), figsize=(20,20))\n",
    "\n",
    "# for i, lib_id in enumerate(library_ids):\n",
    "#     for j, col in enumerate(gene_list):\n",
    "#         subset = df_adata[df_adata['library_id'] == lib_id][col]\n",
    "#         ax[i][j].hist(subset, bins=20, edgecolor='k')\n",
    "#         ax[i][j].set_title(f\"{lib_id} - {col}\")\n",
    "        \n",
    "# plt.tight_layout()\n",
    "# plt.show()"
   ]
  },
  {
   "cell_type": "code",
   "execution_count": 162,
   "metadata": {
    "scrolled": true
   },
   "outputs": [
    {
     "data": {
      "image/png": "[encoded data removed]",
      "text/plain": [
       "<Figure size 640x480 with 1 Axes>"
      ]
     },
     "metadata": {},
     "output_type": "display_data"
    },
    {
     "data": {
      "image/png": "[encoded data removed]",
      "text/plain": [
       "<Figure size 640x480 with 1 Axes>"
      ]
     },
     "metadata": {},
     "output_type": "display_data"
    },
    {
     "data": {
      "image/png": "[encoded data removed]",
      "text/plain": [
       "<Figure size 640x480 with 1 Axes>"
      ]
     },
     "metadata": {},
     "output_type": "display_data"
    },
    {
     "data": {
      "image/png": "[encoded data removed]",
      "text/plain": [
       "<Figure size 640x480 with 1 Axes>"
      ]
     },
     "metadata": {},
     "output_type": "display_data"
    },
    {
     "data": {
      "image/png": "[encoded data removed]",
      "text/plain": [
       "<Figure size 640x480 with 1 Axes>"
      ]
     },
     "metadata": {},
     "output_type": "display_data"
    },
    {
     "data": {
      "image/png": "[encoded data removed]",
      "text/plain": [
       "<Figure size 640x480 with 1 Axes>"
      ]
     },
     "metadata": {},
     "output_type": "display_data"
    },
    {
     "data": {
      "image/png": "[encoded data removed]",
      "text/plain": [
       "<Figure size 640x480 with 1 Axes>"
      ]
     },
     "metadata": {},
     "output_type": "display_data"
    },
    {
     "data": {
      "image/png": "[encoded data removed]",
      "text/plain": [
       "<Figure size 640x480 with 1 Axes>"
      ]
     },
     "metadata": {},
     "output_type": "display_data"
    },
    {
     "data": {
      "image/png": "[encoded data removed]",
      "text/plain": [
       "<Figure size 640x480 with 1 Axes>"
      ]
     },
     "metadata": {},
     "output_type": "display_data"
    },
    {
     "data": {
      "image/png": "[encoded data removed]",
      "text/plain": [
       "<Figure size 640x480 with 1 Axes>"
      ]
     },
     "metadata": {},
     "output_type": "display_data"
    },
    {
     "data": {
      "image/png": "[encoded data removed]",
      "text/plain": [
       "<Figure size 640x480 with 1 Axes>"
      ]
     },
     "metadata": {},
     "output_type": "display_data"
    },
    {
     "data": {
      "image/png": "[encoded data removed]",
      "text/plain": [
       "<Figure size 640x480 with 1 Axes>"
      ]
     },
     "metadata": {},
     "output_type": "display_data"
    },
    {
     "data": {
      "image/png": "[encoded data removed]",
      "text/plain": [
       "<Figure size 640x480 with 1 Axes>"
      ]
     },
     "metadata": {},
     "output_type": "display_data"
    },
    {
     "data": {
      "image/png": "[encoded data removed]",
      "text/plain": [
       "<Figure size 640x480 with 1 Axes>"
      ]
     },
     "metadata": {},
     "output_type": "display_data"
    }
   ],
   "source": [
    "for g in gene_list:\n",
    "    plt.hist(df_adata[g].values, bins=50)\n",
    "    plt.title(g)\n",
    "    plt.show()"
   ]
  },
  {
   "cell_type": "code",
   "execution_count": 163,
   "metadata": {
    "scrolled": true
   },
   "outputs": [
    {
     "data": {
      "image/png": "[encoded data removed]",
      "text/plain": [
       "<Figure size 640x480 with 1 Axes>"
      ]
     },
     "metadata": {},
     "output_type": "display_data"
    },
    {
     "data": {
      "image/png": "[encoded data removed]",
      "text/plain": [
       "<Figure size 640x480 with 1 Axes>"
      ]
     },
     "metadata": {},
     "output_type": "display_data"
    },
    {
     "data": {
      "image/png": "[encoded data removed]",
      "text/plain": [
       "<Figure size 640x480 with 1 Axes>"
      ]
     },
     "metadata": {},
     "output_type": "display_data"
    },
    {
     "data": {
      "image/png": "[encoded data removed]",
      "text/plain": [
       "<Figure size 640x480 with 1 Axes>"
      ]
     },
     "metadata": {},
     "output_type": "display_data"
    },
    {
     "data": {
      "image/png": "[encoded data removed]",
      "text/plain": [
       "<Figure size 640x480 with 1 Axes>"
      ]
     },
     "metadata": {},
     "output_type": "display_data"
    },
    {
     "data": {
      "image/png": "[encoded data removed]",
      "text/plain": [
       "<Figure size 640x480 with 1 Axes>"
      ]
     },
     "metadata": {},
     "output_type": "display_data"
    },
    {
     "data": {
      "image/png": "[encoded data removed]",
      "text/plain": [
       "<Figure size 640x480 with 1 Axes>"
      ]
     },
     "metadata": {},
     "output_type": "display_data"
    },
    {
     "data": {
      "image/png": "[encoded data removed]",
      "text/plain": [
       "<Figure size 640x480 with 1 Axes>"
      ]
     },
     "metadata": {},
     "output_type": "display_data"
    },
    {
     "data": {
      "image/png": "[encoded data removed]",
      "text/plain": [
       "<Figure size 640x480 with 1 Axes>"
      ]
     },
     "metadata": {},
     "output_type": "display_data"
    }
   ],
   "source": [
    "for lib_id in library_ids:\n",
    "    subset = df_adata[df_adata['library_id'] == lib_id][gene_list]\n",
    "    subset = subset.values.reshape(-1,1)\n",
    "    plt.hist(subset, bins=50)\n",
    "    plt.title(lib_id)\n",
    "    plt.show()\n",
    "    del subset"
   ]
  },
  {
   "cell_type": "code",
   "execution_count": 165,
   "metadata": {},
   "outputs": [
    {
     "data": {
      "image/png": "[encoded data removed]",
      "text/plain": [
       "<Figure size 640x480 with 1 Axes>"
      ]
     },
     "metadata": {},
     "output_type": "display_data"
    }
   ],
   "source": [
    "subset = df_adata[gene_list]\n",
    "subset = subset.values.reshape(-1,1)\n",
    "plt.hist(subset, bins=100)\n",
    "plt.title('all')\n",
    "plt.show()"
   ]
  },
  {
   "cell_type": "markdown",
   "metadata": {},
   "source": [
    "# save out dataframe hosting rna, images, and labels"
   ]
  },
  {
   "cell_type": "code",
   "execution_count": 168,
   "metadata": {},
   "outputs": [],
   "source": [
    "df_adata.to_csv(os.path.join(DIR_PROCESSED_DATASET, 'df_adata_rna_logcpt_images_labels_visium9.csv'))"
   ]
  },
  {
   "cell_type": "markdown",
   "metadata": {},
   "source": [
    "## Image, RNA, and class label dataframe"
   ]
  },
  {
   "cell_type": "code",
   "execution_count": 40,
   "metadata": {},
   "outputs": [],
   "source": [
    "# drop instances without labels\n",
    "df_adata = df_adata[df_adata['cancer_class'].notna()]"
   ]
  },
  {
   "cell_type": "code",
   "execution_count": 44,
   "metadata": {},
   "outputs": [
    {
     "data": {
      "text/plain": [
       "dtype('int64')"
      ]
     },
     "execution_count": 44,
     "metadata": {},
     "output_type": "execute_result"
    }
   ],
   "source": [
    "df_adata['cancer_class'].dtype"
   ]
  },
  {
   "cell_type": "code",
   "execution_count": 169,
   "metadata": {
    "vscode": {
     "languageId": "plaintext"
    }
   },
   "outputs": [],
   "source": [
    "class VisiumClassificationDataset(Dataset):\n",
    "    \"\"\"\n",
    "    X (image) -> y (class)\n",
    "    \"\"\"\n",
    "    def __init__(self, df_data, transform=None, target_transform=None):\n",
    "        self.df_data = df_data\n",
    "        self.transform = transform\n",
    "        self.target_transform = target_transform\n",
    "        \n",
    "    def __len__(self):\n",
    "        return len(self.df_data)\n",
    "    \n",
    "    def __getitem__(self, idx):\n",
    "        idx_name = self.df_data.index[idx]\n",
    "        X_img = self.load_img(idx_name)\n",
    "#         y = self.get_expression(idx_name)\n",
    "        c = self.get_class(idx_name)\n",
    "        print(c)\n",
    "        return X_img, c\n",
    "    \n",
    "    def load_img(self, key):\n",
    "        \"\"\"load an image\"\"\"\n",
    "        img_path = self.df_data.loc[key, 'tile_path']\n",
    "        X_img = read_image(img_path)\n",
    "            \n",
    "        if self.transform:\n",
    "            X_img = self.transform(X_img)\n",
    "        \n",
    "        return X_img\n",
    "    \n",
    "#     def get_expression(self, key):\n",
    "#         y = torch.Tensor(adata_all[idx_name, gene_list].to_df().values)\n",
    "        \n",
    "#         if self.target_transform:\n",
    "#             y = self.target_transform(y)\n",
    "        \n",
    "#         return y\n",
    "    \n",
    "    def get_class(self, key):\n",
    "        c = self.df_data.loc[key, 'cancer_class']\n",
    "        print(c)\n",
    "        return c"
   ]
  },
  {
   "cell_type": "code",
   "execution_count": 136,
   "metadata": {},
   "outputs": [],
   "source": [
    "# split into train validation and test"
   ]
  },
  {
   "cell_type": "code",
   "execution_count": 137,
   "metadata": {},
   "outputs": [],
   "source": [
    "df_test = df_adata[df_adata['library'] == 'CID4465']\n",
    "df_train = df_adata[df_adata['library'] != 'CID4465']"
   ]
  },
  {
   "cell_type": "code",
   "execution_count": 138,
   "metadata": {},
   "outputs": [],
   "source": [
    "train_dataset = VisiumClassificationDataset(df_train)"
   ]
  },
  {
   "cell_type": "code",
   "execution_count": 139,
   "metadata": {},
   "outputs": [],
   "source": [
    "test_dataset = VisiumClassificationDataset(df_test)"
   ]
  },
  {
   "cell_type": "code",
   "execution_count": null,
   "metadata": {},
   "outputs": [],
   "source": [
    "kwargs = {\"num_workers\": 4, \"pin_memory\": True}"
   ]
  },
  {
   "cell_type": "code",
   "execution_count": 140,
   "metadata": {},
   "outputs": [],
   "source": [
    "train_dataloader = DataLoader(train_dataset, batch_size=128, shuffle=True)"
   ]
  },
  {
   "cell_type": "code",
   "execution_count": null,
   "metadata": {},
   "outputs": [],
   "source": []
  },
  {
   "cell_type": "code",
   "execution_count": 141,
   "metadata": {},
   "outputs": [],
   "source": [
    "# train DKL model"
   ]
  },
  {
   "cell_type": "code",
   "execution_count": null,
   "metadata": {
    "vscode": {
     "languageId": "plaintext"
    }
   },
   "outputs": [],
   "source": [
    "feature_extractor = WideResNet(\n",
    "        input_size,\n",
    "        hparams.spectral_conv,\n",
    "        hparams.spectral_bn,\n",
    "        dropout_rate=hparams.dropout_rate,\n",
    "        coeff=hparams.coeff,\n",
    "        n_power_iterations=hparams.n_power_iterations,\n",
    "    )"
   ]
  },
  {
   "cell_type": "code",
   "execution_count": null,
   "metadata": {},
   "outputs": [],
   "source": [
    "initial_inducing_points, initial_lengthscale = dkl.initial_values(\n",
    "    train_dataset, feature_extractor, hparams.n_inducing_points\n",
    ")\n",
    "\n",
    "gp = dkl.GP(\n",
    "    num_outputs=num_classes,\n",
    "    initial_lengthscale=initial_lengthscale,\n",
    "    initial_inducing_points=initial_inducing_points,\n",
    "    kernel=hparams.kernel,\n",
    ")\n",
    "\n",
    "model = dkl.DKL(feature_extractor, gp)\n",
    "\n",
    "likelihood = SoftmaxLikelihood(num_classes=num_classes, mixing_weights=False)\n",
    "likelihood = likelihood.cuda()\n",
    "\n",
    "elbo_fn = VariationalELBO(likelihood, gp, num_data=len(train_dataset))\n",
    "loss_fn = lambda x, y: -elbo_fn(x, y)"
   ]
  },
  {
   "cell_type": "code",
   "execution_count": null,
   "metadata": {},
   "outputs": [],
   "source": [
    "model = model.cuda()\n",
    "\n",
    "optimizer = torch.optim.SGD(\n",
    "    model.parameters(),\n",
    "    lr=hparams.learning_rate,\n",
    "    momentum=0.9,\n",
    "    weight_decay=hparams.weight_decay,\n",
    ")\n",
    "\n",
    "milestones = [60, 120, 160]\n",
    "\n",
    "scheduler = torch.optim.lr_scheduler.MultiStepLR(\n",
    "    optimizer, milestones=milestones, gamma=0.2\n",
    ")"
   ]
  },
  {
   "cell_type": "code",
   "execution_count": null,
   "metadata": {},
   "outputs": [],
   "source": [
    "def step(engine, batch):\n",
    "    model.train()\n",
    "    if not hparams.sngp:\n",
    "        likelihood.train()\n",
    "\n",
    "    optimizer.zero_grad()\n",
    "\n",
    "    x, y = batch\n",
    "    x, y = x.cuda(), y.cuda()\n",
    "\n",
    "    y_pred = model(x)\n",
    "    loss = loss_fn(y_pred, y)\n",
    "\n",
    "    loss.backward()\n",
    "    optimizer.step()\n",
    "\n",
    "    return loss.item()"
   ]
  },
  {
   "cell_type": "code",
   "execution_count": null,
   "metadata": {},
   "outputs": [],
   "source": [
    "def eval_step(engine, batch):\n",
    "    model.eval()\n",
    "    if not hparams.sngp:\n",
    "        likelihood.eval()\n",
    "\n",
    "    x, y = batch\n",
    "    x, y = x.cuda(), y.cuda()\n",
    "\n",
    "    with torch.no_grad():\n",
    "        y_pred = model(x)\n",
    "\n",
    "    return y_pred, y"
   ]
  },
  {
   "cell_type": "code",
   "execution_count": null,
   "metadata": {},
   "outputs": [],
   "source": [
    "trainer = Engine(step)\n",
    "evaluator = Engine(eval_step)\n",
    "\n",
    "metric = Average()\n",
    "metric.attach(trainer, \"loss\")"
   ]
  },
  {
   "cell_type": "code",
   "execution_count": null,
   "metadata": {},
   "outputs": [],
   "source": [
    "def output_transform(output):\n",
    "    y_pred, y = output\n",
    "\n",
    "    # Sample softmax values independently for classification at test time\n",
    "    y_pred = y_pred.to_data_independent_dist()\n",
    "\n",
    "    # The mean here is over likelihood samples\n",
    "    y_pred = likelihood(y_pred).probs.mean(0)\n",
    "\n",
    "    return y_pred, y\n",
    "\n"
   ]
  },
  {
   "cell_type": "code",
   "execution_count": null,
   "metadata": {},
   "outputs": [],
   "source": [
    "metric = Accuracy(output_transform=output_transform)\n",
    "metric.attach(evaluator, \"accuracy\")"
   ]
  },
  {
   "cell_type": "code",
   "execution_count": null,
   "metadata": {},
   "outputs": [],
   "source": [
    "metric = Loss(lambda y_pred, y: -likelihood.expected_log_prob(y, y_pred).mean())\n",
    "metric.attach(evaluator, \"loss\")"
   ]
  },
  {
   "cell_type": "code",
   "execution_count": null,
   "metadata": {},
   "outputs": [],
   "source": [
    "@trainer.on(Events.EPOCH_COMPLETED)\n",
    "def log_results(trainer):\n",
    "    metrics = trainer.state.metrics\n",
    "    train_loss = metrics[\"loss\"]\n",
    "\n",
    "    result = f\"Train - Epoch: {trainer.state.epoch} \"\n",
    "    if hparams.sngp:\n",
    "        result += f\"Loss: {train_loss:.2f} \"\n",
    "    else:\n",
    "        result += f\"ELBO: {train_loss:.2f} \"\n",
    "    print(result)\n",
    "\n",
    "    writer.add_scalar(\"Loss/train\", train_loss, trainer.state.epoch)\n",
    "\n",
    "    if hparams.spectral_conv:\n",
    "        for name, layer in model.feature_extractor.named_modules():\n",
    "            if isinstance(layer, torch.nn.Conv2d):\n",
    "                writer.add_scalar(\n",
    "                    f\"sigma/{name}\", layer.weight_sigma, trainer.state.epoch\n",
    "                )\n",
    "\n",
    "    if trainer.state.epoch > 150 and trainer.state.epoch % 5 == 0:\n",
    "        _, auroc, aupr = get_ood_metrics(\n",
    "            hparams.dataset, \"SVHN\", model, likelihood, hparams.data_root\n",
    "        )\n",
    "        print(f\"OoD Metrics - AUROC: {auroc}, AUPR: {aupr}\")\n",
    "        writer.add_scalar(\"OoD/auroc\", auroc, trainer.state.epoch)\n",
    "        writer.add_scalar(\"OoD/auprc\", aupr, trainer.state.epoch)\n",
    "\n",
    "    evaluator.run(test_loader)\n",
    "    metrics = evaluator.state.metrics\n",
    "    acc = metrics[\"accuracy\"]\n",
    "    test_loss = metrics[\"loss\"]\n",
    "\n",
    "    result = f\"Test - Epoch: {trainer.state.epoch} \"\n",
    "    if hparams.sngp:\n",
    "        result += f\"Loss: {test_loss:.2f} \"\n",
    "    else:\n",
    "        result += f\"NLL: {test_loss:.2f} \"\n",
    "    result += f\"Acc: {acc:.4f} \"\n",
    "    print(result)\n",
    "    writer.add_scalar(\"Loss/test\", test_loss, trainer.state.epoch)\n",
    "    writer.add_scalar(\"Accuracy/test\", acc, trainer.state.epoch)\n",
    "\n",
    "    scheduler.step()"
   ]
  },
  {
   "cell_type": "code",
   "execution_count": null,
   "metadata": {},
   "outputs": [],
   "source": [
    "pbar = ProgressBar(dynamic_ncols=True)\n",
    "pbar.attach(trainer)\n",
    "\n",
    "trainer.run(train_loader, max_epochs=200)\n",
    "\n",
    "# Done training - time to evaluate\n",
    "results = {}\n",
    "\n",
    "evaluator.run(test_loader)\n",
    "test_acc = evaluator.state.metrics[\"accuracy\"]\n",
    "test_loss = evaluator.state.metrics[\"loss\"]\n",
    "results[\"test_accuracy\"] = test_acc\n",
    "results[\"test_loss\"] = test_loss\n",
    "\n",
    "_, auroc, aupr = get_ood_metrics(\n",
    "    hparams.dataset, \"SVHN\", model, likelihood, hparams.data_root\n",
    ")\n",
    "results[\"auroc_ood_svhn\"] = auroc\n",
    "results[\"aupr_ood_svhn\"] = aupr\n",
    "\n",
    "print(f\"Final accuracy {results['test_accuracy']:.4f}\")\n",
    "\n",
    "results_json = json.dumps(results, indent=4, sort_keys=True)\n",
    "(results_dir / \"results.json\").write_text(results_json)\n",
    "\n",
    "torch.save(model.state_dict(), results_dir / \"model.pt\")\n",
    "if likelihood is not None:\n",
    "    torch.save(likelihood.state_dict(), results_dir / \"likelihood.pt\")\n",
    "\n",
    "writer.close()"
   ]
  }
 ],
 "metadata": {
  "kernelspec": {
   "display_name": "lit_torch_gp",
   "language": "python",
   "name": "lit_torch_gp"
  },
  "language_info": {
   "codemirror_mode": {
    "name": "ipython",
    "version": 3
   },
   "file_extension": ".py",
   "mimetype": "text/x-python",
   "name": "python",
   "nbconvert_exporter": "python",
   "pygments_lexer": "ipython3",
   "version": "3.8.6"
  }
 },
 "nbformat": 4,
 "nbformat_minor": 2
}
