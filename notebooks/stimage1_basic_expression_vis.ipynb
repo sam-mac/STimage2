{
 "cells": [
  {
   "cell_type": "raw",
   "id": "90a29583",
   "metadata": {},
   "source": [
    "import os\n",
    "os.environ['PATH'] = '/scratch/smp/uqsmac12/.conda/env/lit_torch_gp/bin:' + os.environ['PATH']"
   ]
  },
  {
   "cell_type": "code",
   "execution_count": 1,
   "id": "5f2e5d54",
   "metadata": {
    "scrolled": false
   },
   "outputs": [
    {
     "name": "stdout",
     "output_type": "stream",
     "text": [
      "/scratch/smp/uqsmac12/.conda/env/lit_torch_gp/bin/python\r\n"
     ]
    }
   ],
   "source": [
    "!which python"
   ]
  },
  {
   "cell_type": "markdown",
   "id": "6b9214da",
   "metadata": {},
   "source": [
    "WHERE IS THE DATA: 'Q2051'"
   ]
  },
  {
   "cell_type": "code",
   "execution_count": 2,
   "id": "3c9d1070",
   "metadata": {},
   "outputs": [],
   "source": [
    "import os\n",
    "from anndata import read_h5ad\n",
    "import numpy as np"
   ]
  },
  {
   "cell_type": "code",
   "execution_count": 3,
   "id": "6fe122f2",
   "metadata": {},
   "outputs": [],
   "source": [
    "import pandas as pd"
   ]
  },
  {
   "cell_type": "code",
   "execution_count": 15,
   "id": "ee8f6aa8",
   "metadata": {
    "scrolled": true
   },
   "outputs": [],
   "source": [
    "import os\n",
    "import torch\n",
    "\n",
    "from torch.utils.data import Dataset, DataLoader, random_split\n",
    "from torch.nn import functional as F\n",
    "\n",
    "from torch import optim, nn, utils, Tensor\n",
    "from torchvision.datasets import MNIST\n",
    "from torchvision import datasets, transforms\n",
    "# from torchvision.transforms import ToTensor\n",
    "import pytorch_lightning as pl\n",
    "from pytorch_lightning.loggers import WandbLogger\n",
    "from pytorch_lightning.callbacks.early_stopping import EarlyStopping"
   ]
  },
  {
   "cell_type": "code",
   "execution_count": 5,
   "id": "74889474",
   "metadata": {},
   "outputs": [],
   "source": [
    "# update the location where models will be saved to\n",
    "if torch.hub.get_dir() == '/clusterdata/uqsmac12/.cache/torch/hub':\n",
    "    torch.hub.set_dir('/scratch/smp/uqsmac12/.cache/torch/hub')"
   ]
  },
  {
   "cell_type": "code",
   "execution_count": 6,
   "id": "ec73fba2",
   "metadata": {
    "scrolled": true
   },
   "outputs": [],
   "source": [
    "import matplotlib.pyplot as plt"
   ]
  },
  {
   "cell_type": "code",
   "execution_count": null,
   "id": "c6432446",
   "metadata": {},
   "outputs": [],
   "source": [
    "# setup new conda environment\n",
    "\n",
    "# load data\n",
    "\n",
    "# implement somthing similar to STimage1\n",
    "\n",
    "# test likelihood assumption with log [CPT] data transform\n",
    "# test likelihood assumption without transform"
   ]
  },
  {
   "cell_type": "markdown",
   "id": "51505b85",
   "metadata": {},
   "source": [
    "# load data"
   ]
  },
  {
   "cell_type": "code",
   "execution_count": 7,
   "id": "7a4fc1e8",
   "metadata": {},
   "outputs": [
    {
     "data": {
      "text/plain": [
       "True"
      ]
     },
     "execution_count": 7,
     "metadata": {},
     "output_type": "execute_result"
    }
   ],
   "source": [
    "torch.cuda.is_available()"
   ]
  },
  {
   "cell_type": "code",
   "execution_count": 8,
   "id": "8ff2f4ba",
   "metadata": {},
   "outputs": [],
   "source": [
    "DIR_DATA = '/scratch/smp/uqsmac12/stimage2_data'\n",
    "DIR_CHECKPOINTS = os.path.join(DIR_DATA, 'checkpoints')\n",
    "DIR_WANDB = DIR_DATA"
   ]
  },
  {
   "cell_type": "code",
   "execution_count": 9,
   "id": "11779f47",
   "metadata": {},
   "outputs": [],
   "source": [
    "DIR_TILES = '/scratch/smp/uqsmac12/dataset_breast_cancer_9visium'\n",
    "DIR_ANNDATA_PROCESSED = '/scratch/smp/uqsmac12/dataset_breast_cancer_9visium'\n",
    "file_processed_alex_data = 'all_adata.h5ad'\n",
    "# DIR_PROCESSED_DATA = '/afm03/Q2/Q2051/STimage_project/STimage_dataset/PROCESSED/dataset_breast_cancer_9visium'"
   ]
  },
  {
   "cell_type": "code",
   "execution_count": 10,
   "id": "f2d3ad6a",
   "metadata": {},
   "outputs": [],
   "source": [
    "adata_all = read_h5ad(os.path.join(DIR_ANNDATA_PROCESSED, file_processed_alex_data))"
   ]
  },
  {
   "cell_type": "code",
   "execution_count": 11,
   "id": "179deb54",
   "metadata": {},
   "outputs": [],
   "source": [
    "# update metadata for annadata such that it maps to the correct location\n",
    "adata_all.obs[\"tile_path\"] = adata_all.obs.tile_path.map(\n",
    "    lambda x: x.replace(\"/clusterdata/uqxtan9/Xiao/breast_cancer_9visium\",\n",
    "                        DIR_TILES))"
   ]
  },
  {
   "cell_type": "code",
   "execution_count": 12,
   "id": "0c7a3eb5",
   "metadata": {},
   "outputs": [],
   "source": [
    "assert 'uqsmac12' in adata_all.obs['tile_path'][0]"
   ]
  },
  {
   "cell_type": "code",
   "execution_count": 13,
   "id": "f37bc4a0",
   "metadata": {},
   "outputs": [],
   "source": [
    "gene_list = [\"COX6C\",\"TTLL12\", \"PABPC1\", \"GNAS\", \"HSP90AB1\", \"TFF3\", \"ATP1A1\", \"B2M\", \"FASN\", \"SPARC\", \"CD74\", \"CD63\", \"CD24\", \"CD81\"]"
   ]
  },
  {
   "cell_type": "markdown",
   "id": "a4d00c19",
   "metadata": {},
   "source": [
    "The gene expressions, $X$, are log transformed, hence $\\exp(X)\\sim\\text{NegativeBinomial}(.)$"
   ]
  },
  {
   "cell_type": "markdown",
   "id": "b7d8636c",
   "metadata": {},
   "source": [
    "Get counts"
   ]
  },
  {
   "cell_type": "code",
   "execution_count": 14,
   "id": "527b43ef",
   "metadata": {},
   "outputs": [],
   "source": [
    "X_counts = np.exp(adata_all.to_df().values)"
   ]
  },
  {
   "cell_type": "code",
   "execution_count": 16,
   "id": "1ae96144",
   "metadata": {},
   "outputs": [],
   "source": [
    "import os\n",
    "import pandas as pd\n",
    "from torchvision.io import read_image"
   ]
  },
  {
   "cell_type": "code",
   "execution_count": null,
   "id": "3e7095cc",
   "metadata": {},
   "outputs": [],
   "source": [
    "class CustomImageDataset(Dataset):\n",
    "    def __init__(self, annotations_file, img_dir, transform=None, target_transform=None):\n",
    "        self.img_labels = pd.read_csv(annotations_file)\n",
    "        self.img_dir = img_dir\n",
    "        self.transform = transform\n",
    "        self.target_transform = target_transform\n",
    "\n",
    "    def __len__(self):\n",
    "        return len(self.img_labels)\n",
    "\n",
    "    def __getitem__(self, idx):\n",
    "        img_path = os.path.join(self.img_dir, self.img_labels.iloc[idx, 0])\n",
    "        image = read_image(img_path)\n",
    "        label = self.img_labels.iloc[idx, 1]\n",
    "        if self.transform:\n",
    "            image = self.transform(image)\n",
    "        if self.target_transform:\n",
    "            label = self.target_transform(label)\n",
    "        return image, label"
   ]
  },
  {
   "cell_type": "code",
   "execution_count": 55,
   "id": "01a44b7e",
   "metadata": {},
   "outputs": [],
   "source": [
    "class STimageDataset(Dataset):\n",
    "#     def __init__(self, adata, dim=(299, 299), n_channels=3, genes=None, transform=None, target_transform=None):\n",
    "    def __init__(self, adata, genes=None, transform=None, target_transform=None):\n",
    "        self.adata = adata\n",
    "#         self.dim = dim\n",
    "#         self.n_channels = n_channels\n",
    "        self.genes = genes\n",
    "        self.num_genes = len(genes)\n",
    "        self.transform = transform\n",
    "        self.target_transform = target_transform\n",
    "        \n",
    "    def __len__(self):\n",
    "        \n",
    "        return int(self.adata.n_obs)\n",
    "    \n",
    "    def __getitem__(self, idx):\n",
    "        idx_name = adata_all.obs_names[idx]\n",
    "        X_img = self.load_img(idx_name)\n",
    "        y = self.get_expression(idx_name)\n",
    "        \n",
    "        return X_img, y\n",
    "    \n",
    "    def load_img(self, key):\n",
    "        \"\"\"load an image\"\"\"\n",
    "        img_path = self.adata.obs.loc[key, 'tile_path']\n",
    "        X_img = read_image(img_path)\n",
    "#         # if shape illegal cast to proper shape\n",
    "#         if X_img.shape != (self.n_channels, dim[0], dim[1]):\n",
    "#             assert False, 'not tested'\n",
    "#             X_img = transforms.Resize(self.dim)(X_img)\n",
    "            \n",
    "        if self.transform:\n",
    "#             X_img = seq_aug(image=X_img)\n",
    "            X_img = self.transform(X_img)\n",
    "        \n",
    "        return X_img\n",
    "    \n",
    "    def get_expression(self, key):\n",
    "        y = torch.Tensor(adata_all[idx_name, gene_list].to_df().values)\n",
    "        \n",
    "        if self.target_transform:\n",
    "            y = self.target_transform(y)\n",
    "        \n",
    "        return y"
   ]
  },
  {
   "cell_type": "code",
   "execution_count": 56,
   "id": "f2d77cac",
   "metadata": {},
   "outputs": [],
   "source": [
    "dataset = STimageDataset(adata_all, genes=gene_list)"
   ]
  },
  {
   "cell_type": "code",
   "execution_count": 63,
   "id": "8b37c228",
   "metadata": {},
   "outputs": [],
   "source": [
    "x,y = dataset.__getitem__(3)"
   ]
  },
  {
   "cell_type": "code",
   "execution_count": 64,
   "id": "a6bbbeb7",
   "metadata": {
    "scrolled": true
   },
   "outputs": [
    {
     "data": {
      "text/plain": [
       "torch.Size([3, 299, 299])"
      ]
     },
     "execution_count": 64,
     "metadata": {},
     "output_type": "execute_result"
    }
   ],
   "source": [
    "x.shape"
   ]
  },
  {
   "cell_type": "code",
   "execution_count": 65,
   "id": "fb409276",
   "metadata": {},
   "outputs": [
    {
     "data": {
      "text/plain": [
       "torch.Size([1, 14])"
      ]
     },
     "execution_count": 65,
     "metadata": {},
     "output_type": "execute_result"
    }
   ],
   "source": [
    "y.shape"
   ]
  },
  {
   "cell_type": "code",
   "execution_count": 66,
   "id": "c3f44eca",
   "metadata": {},
   "outputs": [],
   "source": [
    "dataloader = DataLoader(dataset, batch_size=64, shuffle=True)"
   ]
  },
  {
   "cell_type": "code",
   "execution_count": 68,
   "id": "4c2b4fe3",
   "metadata": {},
   "outputs": [],
   "source": [
    "x, y = next(iter(dataloader))"
   ]
  },
  {
   "cell_type": "code",
   "execution_count": 81,
   "id": "2e7a5559",
   "metadata": {},
   "outputs": [
    {
     "data": {
      "text/plain": [
       "tensor(0, dtype=torch.uint8)"
      ]
     },
     "execution_count": 81,
     "metadata": {},
     "output_type": "execute_result"
    }
   ],
   "source": [
    "images = datasets.ImageFolder('')"
   ]
  },
  {
   "cell_type": "code",
   "execution_count": null,
   "id": "2f9bc2d0",
   "metadata": {},
   "outputs": [],
   "source": [
    "self.adata.obs_names[index]"
   ]
  },
  {
   "cell_type": "code",
   "execution_count": null,
   "id": "276513d0",
   "metadata": {},
   "outputs": [],
   "source": []
  },
  {
   "cell_type": "code",
   "execution_count": null,
   "id": "9c398e16",
   "metadata": {},
   "outputs": [],
   "source": [
    "class DataGenerator(torch.utils.data.Dataset):\n",
    "    \"\"\"\n",
    "    data generator for multiple branches gene prediction model\n",
    "    \"\"\"\n",
    "\n",
    "    def __init__(self, adata, dim=(299, 299), n_channels=3, genes=None: list, transform=None, tile_path=\"tile_path\"):\n",
    "        'Initialization'\n",
    "        self.dim = dim\n",
    "        self.adata = adata\n",
    "        self.n_channels = n_channels\n",
    "        self.genes = genes\n",
    "        self.num_genes = len(genes)\n",
    "        self.aug = aug\n",
    "        self.tile_path = tile_path\n",
    "        self.indexes = np.arange(self.adata.n_obs)\n",
    "        \n",
    "    def __len__(self):\n",
    "        'Denotes the number of samples'\n",
    "        return int(self.adata.n_obs)\n",
    "\n",
    "    def __getitem__(self, index):\n",
    "        'Generates one sample of data'\n",
    "        # Find obs name\n",
    "        obs_temp = self.adata.obs_names[index]\n",
    "\n",
    "        # Generate data\n",
    "        X_img, y = self._load_data(obs_temp)\n",
    "\n",
    "        return torch.Tensor(X_img), torch.Tensor(y)\n",
    "\n",
    "    def _load_data(self, obs):\n",
    "        img_path = self.adata.obs.loc[obs, 'tile_path']\n",
    "        X_img = Image.open(img_path).convert('RGB')\n",
    "        X_img = transforms.Resize(self.dim)(X_img)\n",
    "        X_img = np.array(X_img).astype('uint8')\n",
    "        #         X_img = np.expand_dims(X_img, axis=0)\n",
    "        #         n_rotate = np.random.randint(0, 4)\n",
    "        #         X_img = np.rot90(X_img, k=n_rotate, axes=(1, 2))\n",
    "        if self.aug:\n",
    "            X_img = seq_aug(image=X_img)\n",
    "        y = self._load_label(obs)\n",
    "        return X_img, y\n",
    "\n",
    "    def _load_label(self, obs):\n",
    "        batch_adata = self.adata[obs, self.genes].copy()\n",
    "        \n",
    "        return tuple([batch_adata.to_df()[i].values for i in self.genes])\n",
    "\n",
    "    def get_classes(self):\n",
    "        return self.adata.to_df().loc[:, self.genes]"
   ]
  },
  {
   "cell_type": "code",
   "execution_count": 16,
   "id": "54f7e29e",
   "metadata": {},
   "outputs": [],
   "source": [
    "library_size = X_counts.sum(axis=1).reshape(-1,1)"
   ]
  },
  {
   "cell_type": "code",
   "execution_count": 17,
   "id": "629d15e1",
   "metadata": {},
   "outputs": [],
   "source": [
    "X_cpm = X_counts * 1e6 / library_size"
   ]
  },
  {
   "cell_type": "code",
   "execution_count": 18,
   "id": "1e1a14fe",
   "metadata": {},
   "outputs": [
    {
     "data": {
      "text/plain": [
       "array([ 56.564285,  55.577168,  49.622868,  50.4923  , 103.54111 ,\n",
       "        52.012897, 106.89471 ,  51.642223,  54.671696,  53.2198  ],\n",
       "      dtype=float32)"
      ]
     },
     "execution_count": 18,
     "metadata": {},
     "output_type": "execute_result"
    }
   ],
   "source": [
    "X_cpm[:10,3]"
   ]
  },
  {
   "cell_type": "code",
   "execution_count": 19,
   "id": "f36b1517",
   "metadata": {},
   "outputs": [],
   "source": [
    "cols = adata_all.to_df().columns"
   ]
  },
  {
   "cell_type": "code",
   "execution_count": 20,
   "id": "4a85888d",
   "metadata": {},
   "outputs": [],
   "source": [
    "df_X_cpm = pd.DataFrame(X_cpm, columns=cols)"
   ]
  },
  {
   "cell_type": "code",
   "execution_count": 23,
   "id": "3252f605",
   "metadata": {},
   "outputs": [
    {
     "data": {
      "image/png": "[encoded data removed]",
      "text/plain": [
       "<Figure size 500x1000 with 4 Axes>"
      ]
     },
     "metadata": {},
     "output_type": "display_data"
    }
   ],
   "source": [
    "gene = 'PABPC1'\n",
    "\n",
    "x_cpm = df_X_cpm[gene].values.reshape(-1)\n",
    "\n",
    "x_counts = np.exp(adata_all[:,gene].to_df().values.reshape(-1)).round(0).astype(int)\n",
    "\n",
    "fig, ax = plt.subplots(nrows=4, ncols=1, figsize=(5,10))\n",
    "ax[0].hist(x_counts, bins=100, label='counts')\n",
    "ax[0].legend()\n",
    "ax[1].hist(np.log(x_counts), bins=100, label='log (counts)')\n",
    "ax[1].legend()\n",
    "ax[2].hist(x_cpm, bins=100, label='cpm')\n",
    "ax[2].legend()\n",
    "ax[3].hist(np.log(x_cpm), bins=100, label='log (cpm)')\n",
    "ax[3].legend()\n",
    "fig.suptitle(gene, size=24)\n",
    "fig.show()"
   ]
  },
  {
   "cell_type": "code",
   "execution_count": 24,
   "id": "9fe23cc8",
   "metadata": {},
   "outputs": [
    {
     "data": {
      "image/png": "[encoded data removed]",
      "text/plain": [
       "<Figure size 500x1000 with 4 Axes>"
      ]
     },
     "metadata": {},
     "output_type": "display_data"
    }
   ],
   "source": [
    "gene = 'COX6C'\n",
    "\n",
    "x_cpm = df_X_cpm[gene].values.reshape(-1)\n",
    "\n",
    "x_counts = np.exp(adata_all[:,gene].to_df().values.reshape(-1)).round(0).astype(int)\n",
    "\n",
    "fig, ax = plt.subplots(nrows=4, ncols=1, figsize=(5,10))\n",
    "ax[0].hist(x_counts, bins=100, label='counts')\n",
    "ax[0].legend()\n",
    "ax[1].hist(np.log(x_counts), bins=100, label='log (counts)')\n",
    "ax[1].legend()\n",
    "ax[2].hist(x_cpm, bins=100, label='cpm')\n",
    "ax[2].legend()\n",
    "ax[3].hist(np.log(x_cpm), bins=100, label='log (cpm)')\n",
    "ax[3].legend()\n",
    "fig.suptitle(gene, size=24)\n",
    "fig.show()"
   ]
  },
  {
   "cell_type": "markdown",
   "id": "7da78e73",
   "metadata": {},
   "source": [
    "log (cpm) appears best... why it doesn't get used is a bit of a mystery."
   ]
  }
 ],
 "metadata": {
  "kernelspec": {
   "display_name": "lit_torch_gp",
   "language": "python",
   "name": "lit_torch_gp"
  },
  "language_info": {
   "codemirror_mode": {
    "name": "ipython",
    "version": 3
   },
   "file_extension": ".py",
   "mimetype": "text/x-python",
   "name": "python",
   "nbconvert_exporter": "python",
   "pygments_lexer": "ipython3",
   "version": "3.8.6"
  }
 },
 "nbformat": 4,
 "nbformat_minor": 5
}
